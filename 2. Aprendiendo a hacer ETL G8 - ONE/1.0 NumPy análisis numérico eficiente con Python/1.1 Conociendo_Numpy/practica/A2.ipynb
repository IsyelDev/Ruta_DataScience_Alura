{
 "cells": [
  {
   "cell_type": "code",
   "execution_count": 3,
   "id": "9da194a6",
   "metadata": {},
   "outputs": [],
   "source": [
    "import pandas as pd\n",
    "import matplotlib.pyplot as plt\n",
    "import numpy as np"
   ]
  },
  {
   "cell_type": "code",
   "execution_count": 6,
   "id": "d44e4957",
   "metadata": {},
   "outputs": [
    {
     "data": {
      "text/plain": [
       "numpy.ndarray"
      ]
     },
     "execution_count": 6,
     "metadata": {},
     "output_type": "execute_result"
    }
   ],
   "source": [
    "lista = [range(1500)]\n",
    "lista_array = np.array(lista)\n",
    "pd.DataFrame(lista_array)\n",
    "type(lista_array)"
   ]
  },
  {
   "cell_type": "code",
   "execution_count": 24,
   "id": "95dc3fd2",
   "metadata": {},
   "outputs": [
    {
     "data": {
      "text/plain": [
       "[[0, 2, 4, 6, 8, 10],\n",
       " [10, 12, 14, 16, 18, 20],\n",
       " [20, 22, 24, 26, 28, 30],\n",
       " [0, 2, 4, 6, 8, 10],\n",
       " [10, 12, 14, 16, 18, 20],\n",
       " [20, 22, 24, 26, 28, 30]]"
      ]
     },
     "execution_count": 24,
     "metadata": {},
     "output_type": "execute_result"
    }
   ],
   "source": [
    "lista_2d=[list(range(0,10+1,2)),list(range(10,21,2)),list(range(20,31,2)),list(range(0,10+1,2)),list(range(10,21,2)),list(range(20,31,2))]\n",
    "lista_2d\n"
   ]
  },
  {
   "cell_type": "code",
   "execution_count": 25,
   "id": "49844fbd",
   "metadata": {},
   "outputs": [
    {
     "data": {
      "text/plain": [
       "array([[ 0,  2,  4,  6,  8, 10],\n",
       "       [10, 12, 14, 16, 18, 20],\n",
       "       [20, 22, 24, 26, 28, 30],\n",
       "       [ 0,  2,  4,  6,  8, 10],\n",
       "       [10, 12, 14, 16, 18, 20],\n",
       "       [20, 22, 24, 26, 28, 30]])"
      ]
     },
     "execution_count": 25,
     "metadata": {},
     "output_type": "execute_result"
    }
   ],
   "source": [
    "nueva_lista2d = np.array(lista_2d)\n",
    "nueva_lista2d"
   ]
  },
  {
   "cell_type": "code",
   "execution_count": 26,
   "id": "88e40dd2",
   "metadata": {},
   "outputs": [
    {
     "data": {
      "text/plain": [
       "(6, 6)"
      ]
     },
     "execution_count": 26,
     "metadata": {},
     "output_type": "execute_result"
    }
   ],
   "source": [
    "nueva_lista2d.shape"
   ]
  },
  {
   "cell_type": "code",
   "execution_count": 27,
   "id": "4093f7e6",
   "metadata": {},
   "outputs": [
    {
     "data": {
      "text/plain": [
       "2"
      ]
     },
     "execution_count": 27,
     "metadata": {},
     "output_type": "execute_result"
    }
   ],
   "source": [
    "nueva_lista2d.ndim"
   ]
  },
  {
   "cell_type": "code",
   "execution_count": 28,
   "id": "8ea9bc5b",
   "metadata": {},
   "outputs": [
    {
     "data": {
      "text/plain": [
       "dtype('int32')"
      ]
     },
     "execution_count": 28,
     "metadata": {},
     "output_type": "execute_result"
    }
   ],
   "source": [
    "nueva_lista2d.dtype"
   ]
  },
  {
   "cell_type": "code",
   "execution_count": 29,
   "id": "ed072970",
   "metadata": {},
   "outputs": [
    {
     "data": {
      "text/plain": [
       "36"
      ]
     },
     "execution_count": 29,
     "metadata": {},
     "output_type": "execute_result"
    }
   ],
   "source": [
    "nueva_lista2d.size"
   ]
  },
  {
   "cell_type": "code",
   "execution_count": 33,
   "id": "ca24e89e",
   "metadata": {},
   "outputs": [
    {
     "data": {
      "text/plain": [
       "dtype('int16')"
      ]
     },
     "execution_count": 33,
     "metadata": {},
     "output_type": "execute_result"
    }
   ],
   "source": [
    "cambio_data = np.array(nueva_lista2d,dtype=np.int16)\n",
    "cambio_data.dtype"
   ]
  },
  {
   "cell_type": "code",
   "execution_count": 40,
   "id": "499ab6ac",
   "metadata": {},
   "outputs": [
    {
     "data": {
      "text/plain": [
       "array([[1., 1.],\n",
       "       [1., 1.],\n",
       "       [1., 1.],\n",
       "       [1., 1.],\n",
       "       [1., 1.],\n",
       "       [1., 1.]])"
      ]
     },
     "execution_count": 40,
     "metadata": {},
     "output_type": "execute_result"
    }
   ],
   "source": [
    "ceros = np.empty((6,2))\n",
    "ceros"
   ]
  },
  {
   "cell_type": "code",
   "execution_count": 41,
   "id": "e586e8b5",
   "metadata": {},
   "outputs": [
    {
     "data": {
      "text/plain": [
       "array([ 0,  1,  2,  3,  4,  5,  6,  7,  8,  9, 10])"
      ]
     },
     "execution_count": 41,
     "metadata": {},
     "output_type": "execute_result"
    }
   ],
   "source": [
    "np.arange(0,11,1)"
   ]
  },
  {
   "cell_type": "code",
   "execution_count": 43,
   "id": "96a65b31",
   "metadata": {},
   "outputs": [
    {
     "data": {
      "text/plain": [
       "array([[0, 1, 2, 3, 4],\n",
       "       [5, 6, 7, 8, 9]])"
      ]
     },
     "execution_count": 43,
     "metadata": {},
     "output_type": "execute_result"
    }
   ],
   "source": [
    "dimensiones = np.array((range(0,5),range(5,10)))\n",
    "dimensiones"
   ]
  },
  {
   "cell_type": "code",
   "execution_count": 48,
   "id": "7f0c8417",
   "metadata": {},
   "outputs": [
    {
     "data": {
      "text/plain": [
       "array([[0, 1, 2, 3, 4],\n",
       "       [5, 6, 7, 8, 9]])"
      ]
     },
     "execution_count": 48,
     "metadata": {},
     "output_type": "execute_result"
    }
   ],
   "source": [
    "np.arange(10).reshape(2,5)"
   ]
  },
  {
   "cell_type": "code",
   "execution_count": 50,
   "id": "65f12718",
   "metadata": {},
   "outputs": [
    {
     "data": {
      "text/plain": [
       "array([10, 12, 14, 16, 18, 20])"
      ]
     },
     "execution_count": 50,
     "metadata": {},
     "output_type": "execute_result"
    }
   ],
   "source": [
    "np.arange(10,20+1,2)"
   ]
  },
  {
   "cell_type": "code",
   "execution_count": 52,
   "id": "67d4f949",
   "metadata": {},
   "outputs": [
    {
     "data": {
      "text/plain": [
       "array([10.        , 10.20408163, 10.40816327, 10.6122449 , 10.81632653,\n",
       "       11.02040816, 11.2244898 , 11.42857143, 11.63265306, 11.83673469,\n",
       "       12.04081633, 12.24489796, 12.44897959, 12.65306122, 12.85714286,\n",
       "       13.06122449, 13.26530612, 13.46938776, 13.67346939, 13.87755102,\n",
       "       14.08163265, 14.28571429, 14.48979592, 14.69387755, 14.89795918,\n",
       "       15.10204082, 15.30612245, 15.51020408, 15.71428571, 15.91836735,\n",
       "       16.12244898, 16.32653061, 16.53061224, 16.73469388, 16.93877551,\n",
       "       17.14285714, 17.34693878, 17.55102041, 17.75510204, 17.95918367,\n",
       "       18.16326531, 18.36734694, 18.57142857, 18.7755102 , 18.97959184,\n",
       "       19.18367347, 19.3877551 , 19.59183673, 19.79591837, 20.        ])"
      ]
     },
     "execution_count": 52,
     "metadata": {},
     "output_type": "execute_result"
    }
   ],
   "source": [
    "np.linspace(10,20,50)"
   ]
  },
  {
   "cell_type": "code",
   "execution_count": 54,
   "id": "7e989438",
   "metadata": {},
   "outputs": [
    {
     "data": {
      "text/plain": [
       "array([0.        , 0.08914119, 0.17828238, 0.26742357, 0.35656476,\n",
       "       0.44570595, 0.53484714, 0.62398833, 0.71312952, 0.80227071,\n",
       "       0.8914119 , 0.98055309, 1.06969428, 1.15883547, 1.24797666,\n",
       "       1.33711785, 1.42625904, 1.51540023, 1.60454142, 1.69368261,\n",
       "       1.7828238 , 1.87196499, 1.96110618, 2.05024737, 2.13938856,\n",
       "       2.22852975, 2.31767094, 2.40681213, 2.49595332, 2.58509452,\n",
       "       2.67423571, 2.7633769 , 2.85251809, 2.94165928, 3.03080047,\n",
       "       3.11994166, 3.20908285, 3.29822404, 3.38736523, 3.47650642,\n",
       "       3.56564761, 3.6547888 , 3.74392999, 3.83307118, 3.92221237,\n",
       "       4.01135356, 4.10049475, 4.18963594, 4.27877713, 4.36791832,\n",
       "       4.45705951, 4.5462007 , 4.63534189, 4.72448308, 4.81362427,\n",
       "       4.90276546, 4.99190665, 5.08104784, 5.17018903, 5.25933022,\n",
       "       5.34847141, 5.4376126 , 5.52675379, 5.61589498, 5.70503617,\n",
       "       5.79417736, 5.88331855, 5.97245974, 6.06160093, 6.15074212,\n",
       "       6.23988331, 6.3290245 , 6.41816569, 6.50730688, 6.59644807,\n",
       "       6.68558926, 6.77473045, 6.86387164, 6.95301283, 7.04215402,\n",
       "       7.13129521, 7.2204364 , 7.30957759, 7.39871878, 7.48785997,\n",
       "       7.57700116, 7.66614235, 7.75528355, 7.84442474, 7.93356593,\n",
       "       8.02270712, 8.11184831, 8.2009895 , 8.29013069, 8.37927188,\n",
       "       8.46841307, 8.55755426, 8.64669545, 8.73583664, 8.82497783])"
      ]
     },
     "execution_count": 54,
     "metadata": {},
     "output_type": "execute_result"
    }
   ],
   "source": [
    "from numpy import pi\n",
    "\n",
    "rad = np.linspace(0,2**pi,100)\n",
    "rad"
   ]
  },
  {
   "cell_type": "code",
   "execution_count": 60,
   "id": "304e48d8",
   "metadata": {},
   "outputs": [
    {
     "data": {
      "text/plain": [
       "array([0.26161213, 0.29849114, 0.81422574, 0.09191594, 0.60010053,\n",
       "       0.72856053, 0.18790107, 0.05514663, 0.27496937, 0.65743301,\n",
       "       0.56226566, 0.15006226, 0.43263079, 0.6692973 , 0.42278467,\n",
       "       0.6331844 , 0.96743595, 0.68306482, 0.39162483, 0.18725257,\n",
       "       0.34596067, 0.51106597, 0.89120941, 0.77556394, 0.3181466 ,\n",
       "       0.9242169 , 0.47090989, 0.69375884, 0.10720731, 0.10454356,\n",
       "       0.20190745, 0.88444967, 0.67981146, 0.84923632, 0.64443627,\n",
       "       0.4065424 , 0.51657819, 0.59344352, 0.86211798, 0.43818617,\n",
       "       0.89224011, 0.61371694, 0.82935613, 0.49805605, 0.69251813,\n",
       "       0.33902537, 0.5228285 , 0.21622339, 0.1007036 , 0.03860413,\n",
       "       0.70194948, 0.45643062, 0.89773415, 0.8351832 , 0.38509513,\n",
       "       0.97367877, 0.59206201, 0.76588331, 0.40719436, 0.19616991,\n",
       "       0.17177702, 0.18120623, 0.60380552, 0.11263286, 0.01991075,\n",
       "       0.83299696, 0.09941112, 0.45058454, 0.48849857, 0.62027241,\n",
       "       0.50401448, 0.93734314, 0.75039659, 0.5744665 , 0.61727214,\n",
       "       0.50655149, 0.96476181, 0.22662606, 0.68902714, 0.55509668,\n",
       "       0.04201179, 0.29615   , 0.92716694, 0.78456486, 0.01283109,\n",
       "       0.29662633, 0.00980535, 0.82746694, 0.11036759, 0.05745518,\n",
       "       0.98188334, 0.44586988, 0.318393  , 0.04901339, 0.38959528,\n",
       "       0.36603906, 0.52348079, 0.00678547, 0.14796288, 0.20988653,\n",
       "       0.44050452, 0.30230337, 0.61332768, 0.28543261, 0.90963301,\n",
       "       0.96186996, 0.05943487, 0.20905972, 0.56302318, 0.77066023,\n",
       "       0.06402423, 0.18480268, 0.45672012, 0.66869076, 0.90332793,\n",
       "       0.86697296, 0.79375542, 0.05273214, 0.97663649, 0.61462795,\n",
       "       0.08611582, 0.25492878, 0.62075408, 0.38564012, 0.44660348,\n",
       "       0.80458507, 0.82403098, 0.54678698, 0.7924511 , 0.40600493,\n",
       "       0.97448184, 0.60515917, 0.96769798, 0.04398769, 0.88269265,\n",
       "       0.55937719, 0.71363903, 0.19259498, 0.54869138, 0.28927792,\n",
       "       0.10548048, 0.00318677, 0.90684002, 0.67090432, 0.20502173,\n",
       "       0.25781868, 0.46559431, 0.81828725, 0.1176256 , 0.96778483,\n",
       "       0.94391077, 0.2446601 , 0.64078186, 0.36009753, 0.69732334,\n",
       "       0.0869161 , 0.46996588, 0.5884908 , 0.62647574, 0.69279547,\n",
       "       0.89138137, 0.24125021, 0.15319432, 0.39060694, 0.56882815,\n",
       "       0.96052876, 0.71050559, 0.73844255, 0.97271705, 0.26774316,\n",
       "       0.25946163, 0.42254084, 0.29542001, 0.65110339, 0.95171392,\n",
       "       0.15351149, 0.51794768, 0.6775781 , 0.49317767, 0.91374384,\n",
       "       0.73689799, 0.8821768 , 0.11176499, 0.1957635 , 0.06570423,\n",
       "       0.8293195 , 0.96281866, 0.01399102, 0.78925364, 0.7278312 ,\n",
       "       0.90818679, 0.27038547, 0.71477718, 0.23742288, 0.0760332 ,\n",
       "       0.74520406, 0.04221297, 0.69959446, 0.28346246, 0.4874234 ,\n",
       "       0.89153315, 0.24340788, 0.46832438, 0.35504945, 0.19038089,\n",
       "       0.47365147, 0.18163033, 0.79900749, 0.61482164, 0.28313075,\n",
       "       0.973105  , 0.34527684, 0.67125666, 0.73322373, 0.26522639,\n",
       "       0.0117638 , 0.89261588, 0.95641651, 0.17022808, 0.15360521,\n",
       "       0.43266742, 0.59756957, 0.98898263, 0.96349612, 0.98785284,\n",
       "       0.24556942, 0.5988832 , 0.43586914, 0.2314023 , 0.06537737,\n",
       "       0.16872837, 0.35845173, 0.08802173, 0.15073899, 0.04465149,\n",
       "       0.62290627, 0.49271648, 0.243553  , 0.52634874, 0.42444678,\n",
       "       0.65915322, 0.93266722, 0.35329211, 0.64515153, 0.21891674,\n",
       "       0.9398994 , 0.61769248, 0.15874744, 0.25705106, 0.15915136,\n",
       "       0.17913403, 0.30679886, 0.82307044, 0.4570588 , 0.27716997,\n",
       "       0.41907586, 0.26739823, 0.73368242, 0.05878125, 0.28922856,\n",
       "       0.32324609, 0.18151952, 0.73815578, 0.18024736, 0.30048134,\n",
       "       0.05647656, 0.75558564, 0.36386302, 0.65592839, 0.2172361 ,\n",
       "       0.02180019, 0.32241816, 0.77906385, 0.83744578, 0.34883976,\n",
       "       0.84694078, 0.05034893, 0.52211454, 0.25742242, 0.43907769,\n",
       "       0.22164182, 0.89356662, 0.30217467, 0.94529193, 0.10909018,\n",
       "       0.42983101, 0.44344493, 0.70943479, 0.34502227, 0.49249496,\n",
       "       0.07044906, 0.31103146, 0.72498432, 0.10591139, 0.46253567,\n",
       "       0.23672695, 0.1654845 , 0.12131551, 0.81386593, 0.68665702,\n",
       "       0.3794561 , 0.39164094, 0.72845748, 0.60395615, 0.91601526,\n",
       "       0.91941369, 0.4821747 , 0.65913526, 0.54466771, 0.31028554,\n",
       "       0.45351342, 0.72117586, 0.55268215, 0.63240637, 0.4870733 ,\n",
       "       0.95297764, 0.77646145, 0.13078503, 0.81410951, 0.91757758,\n",
       "       0.81665819, 0.34310825, 0.367909  , 0.24321437, 0.05570471,\n",
       "       0.47206135, 0.85048018, 0.76881159, 0.6621989 , 0.84719067,\n",
       "       0.65911387, 0.22333342, 0.80315508, 0.36752   , 0.89006197,\n",
       "       0.32648253, 0.09190195, 0.7298982 , 0.10764675, 0.87021443,\n",
       "       0.41192355, 0.7801212 , 0.05256846, 0.54383776, 0.67689404,\n",
       "       0.12950513, 0.60839782, 0.14302262, 0.30398913, 0.36528521,\n",
       "       0.61958537, 0.13011884, 0.18482566, 0.78125659, 0.71587564,\n",
       "       0.45420567, 0.28200302, 0.69220464, 0.4678444 , 0.31151967,\n",
       "       0.87468323, 0.20184032, 0.80428285, 0.61781791, 0.64598013,\n",
       "       0.68215245, 0.74827104, 0.8809471 , 0.92058385, 0.25548905,\n",
       "       0.1638862 , 0.89637408, 0.20382929, 0.22196494, 0.80525699,\n",
       "       0.96611059, 0.84454535, 0.51673039, 0.37560037, 0.98855173,\n",
       "       0.73606888, 0.62909352, 0.01112877, 0.19519178, 0.01349177,\n",
       "       0.90704041, 0.23646561, 0.17102131, 0.58256772, 0.20310186,\n",
       "       0.54653209, 0.9497917 , 0.86390869, 0.24512753, 0.91617764,\n",
       "       0.39939044, 0.52303708, 0.32497268, 0.99995809, 0.30707346,\n",
       "       0.737276  , 0.61989604, 0.68892332, 0.10400655, 0.53678881,\n",
       "       0.99704736, 0.56314343, 0.19679411, 0.05257312, 0.32995251,\n",
       "       0.74561653, 0.02481358, 0.04863821, 0.65700802, 0.88186714,\n",
       "       0.43874838, 0.62430676, 0.25726181, 0.27256318, 0.47497741,\n",
       "       0.21906648, 0.45387996, 0.14838181, 0.92397493, 0.64795107,\n",
       "       0.09418871, 0.19310735, 0.82915273, 0.37240304, 0.26010407,\n",
       "       0.02331807, 0.67521685, 0.57033139, 0.84039444, 0.16973045,\n",
       "       0.75229518, 0.82706877, 0.82412116, 0.74636475, 0.44236588,\n",
       "       0.04740683, 0.64428142, 0.02569125, 0.08584249, 0.4091233 ,\n",
       "       0.12077795, 0.45198276, 0.8510432 , 0.17415722, 0.79815495,\n",
       "       0.99756073, 0.037283  , 0.42314941, 0.70754131, 0.73168353,\n",
       "       0.27990975, 0.80902173, 0.37128152, 0.20075243, 0.51783179,\n",
       "       0.61247725, 0.83773825, 0.66398121, 0.08311997, 0.57485685,\n",
       "       0.34414603, 0.70504238, 0.04506066, 0.65735746, 0.79157132,\n",
       "       0.0401567 , 0.01536072, 0.89189148, 0.89542364, 0.17658518,\n",
       "       0.92245198, 0.40661635, 0.5190463 , 0.47087198, 0.33500287,\n",
       "       0.88424856, 0.61057621, 0.93247209, 0.62207593, 0.92485838,\n",
       "       0.5152196 , 0.47489401, 0.57131101, 0.00591919, 0.76764455,\n",
       "       0.13961698, 0.94396252, 0.04429511, 0.7081858 , 0.76858554,\n",
       "       0.54163768, 0.09575644, 0.81150338, 0.32121682, 0.28797286,\n",
       "       0.69238515, 0.97182871, 0.09614731, 0.43627545, 0.67334389,\n",
       "       0.2769218 , 0.92499474, 0.6027983 , 0.0756099 , 0.15476542,\n",
       "       0.14325491, 0.45600458, 0.91025897, 0.11228428, 0.15129167,\n",
       "       0.21172574, 0.57309136, 0.43021384, 0.41830465, 0.144937  ,\n",
       "       0.82428303, 0.47944939, 0.86572777, 0.03011478, 0.45770009,\n",
       "       0.3684166 , 0.84131338, 0.69214217, 0.52092413, 0.16124838,\n",
       "       0.68259365, 0.89597382, 0.77662201, 0.96711665, 0.59131801,\n",
       "       0.3137366 , 0.22100306, 0.79934162, 0.81183764, 0.63473214,\n",
       "       0.78207289, 0.4859756 , 0.85153847, 0.69469176, 0.24195175,\n",
       "       0.587547  , 0.65613946, 0.20283872, 0.93577899, 0.80555036,\n",
       "       0.14526105, 0.21989445, 0.0021272 , 0.9394023 , 0.17436271,\n",
       "       0.83381308, 0.51160446, 0.05711615, 0.21142548, 0.25771204,\n",
       "       0.76435562, 0.36764731, 0.14193928, 0.94634387, 0.51451938,\n",
       "       0.0665885 , 0.97299941, 0.67532809, 0.44104229, 0.14572561,\n",
       "       0.69336859, 0.09698163, 0.93923895, 0.75150755, 0.71313401,\n",
       "       0.770281  , 0.86378313, 0.4689278 , 0.81151346, 0.11017816,\n",
       "       0.70036622, 0.75115026, 0.21138699, 0.11133799, 0.91681299,\n",
       "       0.89151201, 0.10992255, 0.58934796, 0.18078792, 0.20470232,\n",
       "       0.92919233, 0.6627969 , 0.7584632 , 0.28213424, 0.77581363,\n",
       "       0.66935946, 0.34626693, 0.49623646, 0.24907852, 0.59450206,\n",
       "       0.18694388, 0.44866577, 0.85532659, 0.65784283, 0.60224058,\n",
       "       0.1119182 , 0.82168075, 0.61953581, 0.94839913, 0.93377553,\n",
       "       0.93179895, 0.53442176, 0.76969508, 0.10163128, 0.04474598,\n",
       "       0.78629822, 0.67325024, 0.94701235, 0.30439726, 0.49499616,\n",
       "       0.78672871, 0.60897904, 0.84850315, 0.39472534, 0.84516247,\n",
       "       0.86129733, 0.90298399, 0.39794645, 0.90827594, 0.30910327,\n",
       "       0.5939051 , 0.97993049, 0.64448812, 0.59241674, 0.36098745,\n",
       "       0.51360948, 0.49059894, 0.67758551, 0.53984254, 0.31843589,\n",
       "       0.19081465, 0.98732843, 0.61934903, 0.17313969, 0.33795313,\n",
       "       0.65016206, 0.23861847, 0.8953391 , 0.54052343, 0.68086001,\n",
       "       0.66350032, 0.16174409, 0.9321474 , 0.84578276, 0.14598698,\n",
       "       0.56956286, 0.5279328 , 0.30958655, 0.3752215 , 0.25919392,\n",
       "       0.63134325, 0.42862469, 0.10042342, 0.22717449, 0.15154658,\n",
       "       0.6294987 , 0.55420062, 0.39253385, 0.54715822, 0.62880705,\n",
       "       0.21650102, 0.05562417, 0.96215879, 0.18551305, 0.24193546,\n",
       "       0.70420057, 0.98581611, 0.12358773, 0.40240606, 0.85582478,\n",
       "       0.08491591, 0.25033644, 0.61371778, 0.82923206, 0.10263636,\n",
       "       0.41635547, 0.59213171, 0.54705089, 0.53554141, 0.99301659,\n",
       "       0.98411915, 0.21030714, 0.25564014, 0.40004198, 0.10096844,\n",
       "       0.14637315, 0.56501523, 0.9869442 , 0.29378302, 0.19845887,\n",
       "       0.61651994, 0.29750548, 0.01359419, 0.09370409, 0.87775262,\n",
       "       0.10872602, 0.64141413, 0.41871556, 0.76948405, 0.50913604,\n",
       "       0.23089804, 0.21116944, 0.23524108, 0.23371029, 0.25082029,\n",
       "       0.29936638, 0.59811942, 0.52777106, 0.06871761, 0.42072396,\n",
       "       0.92998013, 0.93959585, 0.31967223, 0.15554033, 0.29276942,\n",
       "       0.13267831, 0.25856908, 0.92479562, 0.87708237, 0.45226507,\n",
       "       0.5497937 , 0.70061621, 0.70132227, 0.69365893, 0.73606297,\n",
       "       0.5909845 , 0.13294688, 0.68692783, 0.66894323, 0.16234668,\n",
       "       0.19496082, 0.63657494, 0.38583867, 0.81082634, 0.27719726,\n",
       "       0.66617906, 0.61488419, 0.11056069, 0.27843425, 0.35345639,\n",
       "       0.30194219, 0.09099549, 0.23550291, 0.53721973, 0.22607817,\n",
       "       0.63579054, 0.41503913, 0.45636295, 0.20697351, 0.78651879,\n",
       "       0.07745509, 0.94440349, 0.58934317, 0.94425135, 0.5492193 ,\n",
       "       0.35159908, 0.36985564, 0.92930105, 0.52087061, 0.39438049,\n",
       "       0.15598451, 0.15174028, 0.4159864 , 0.45203882, 0.80422819,\n",
       "       0.1216879 , 0.45411715, 0.13300579, 0.2539561 , 0.49312825,\n",
       "       0.87691588, 0.13230636, 0.17424819, 0.70619961, 0.52721846,\n",
       "       0.087695  , 0.68100361, 0.95834903, 0.73825487, 0.9964816 ,\n",
       "       0.74279154, 0.3289304 , 0.80034595, 0.56787535, 0.09133995,\n",
       "       0.36243271, 0.9462756 , 0.65492738, 0.36991639, 0.70850435,\n",
       "       0.68315782, 0.15832343, 0.46072496, 0.80586212, 0.11635039,\n",
       "       0.54763839, 0.11886073, 0.2748959 , 0.7664542 , 0.3576982 ,\n",
       "       0.82241602, 0.72611174, 0.63568696, 0.1503833 , 0.45219568,\n",
       "       0.87827864, 0.63267066, 0.06868851, 0.5020887 , 0.46688802,\n",
       "       0.48721682, 0.41454647, 0.81367542, 0.53227498, 0.85831323,\n",
       "       0.95351183, 0.895208  , 0.76981454, 0.02147006, 0.00177836,\n",
       "       0.17154903, 0.51715473, 0.29937142, 0.1322176 , 0.92680632,\n",
       "       0.42984618, 0.19876075, 0.51155671, 0.98164917, 0.72294483,\n",
       "       0.92461748, 0.11612272, 0.74103998, 0.33755783, 0.36019266,\n",
       "       0.45678005, 0.46275665, 0.79093517, 0.29575051, 0.46146589,\n",
       "       0.43313903, 0.62254965, 0.5585949 , 0.04740737, 0.85397489,\n",
       "       0.64256909, 0.15212173, 0.49579331, 0.90028886, 0.88276535,\n",
       "       0.40365408, 0.2382463 , 0.95181841, 0.73519472, 0.66333272,\n",
       "       0.40889652, 0.86521375, 0.19289379, 0.82802054, 0.80025525,\n",
       "       0.52225306, 0.3639548 , 0.68624492, 0.38830638, 0.41360367,\n",
       "       0.26964155, 0.78326828, 0.15382401, 0.4950853 , 0.44201682,\n",
       "       0.98606868, 0.11027778, 0.56549225, 0.22175259, 0.95042397,\n",
       "       0.12571714, 0.9163971 , 0.64561621, 0.19077339, 0.41446536,\n",
       "       0.2757438 , 0.47744453, 0.82471407, 0.48091166, 0.98513651,\n",
       "       0.91160761, 0.21626896, 0.1326575 , 0.68394761, 0.35990371,\n",
       "       0.26540484, 0.92549658, 0.57841146, 0.26855311, 0.56333748,\n",
       "       0.55038301, 0.79926246, 0.41226899, 0.50416439, 0.15219385,\n",
       "       0.8487494 , 0.9192292 , 0.00214704, 0.75543213, 0.973171  ,\n",
       "       0.85903306, 0.79949204, 0.2153267 , 0.99076444, 0.37323376,\n",
       "       0.85775385, 0.7783426 , 0.60671695, 0.9649848 , 0.95737623,\n",
       "       0.44370039, 0.47245969, 0.90305327, 0.45135175, 0.8689432 ,\n",
       "       0.22692452, 0.25245973, 0.38753314, 0.30885314, 0.45316705,\n",
       "       0.2215557 , 0.16398265, 0.38067023, 0.17772138, 0.3432666 ,\n",
       "       0.39672897, 0.9420742 , 0.41695678, 0.59084393, 0.92405279,\n",
       "       0.44420321, 0.27553312, 0.56724901, 0.82470659, 0.28400078,\n",
       "       0.73733227, 0.48127851, 0.52816772, 0.644314  , 0.46781092,\n",
       "       0.1862254 , 0.23138241, 0.04836611, 0.88172958, 0.6517751 ,\n",
       "       0.93894598, 0.31762257, 0.55897519, 0.57045233, 0.13952009,\n",
       "       0.55569569, 0.60553346, 0.4316789 , 0.34920036, 0.23630718,\n",
       "       0.07699087, 0.59871844, 0.19644018, 0.08057523, 0.98344255,\n",
       "       0.8902411 , 0.36113692, 0.47101246, 0.2046988 , 0.98639626,\n",
       "       0.30079772, 0.83557173, 0.74744073, 0.01679759, 0.0373027 ,\n",
       "       0.44008969, 0.03064513, 0.91833795, 0.97035205, 0.61271034,\n",
       "       0.30587525, 0.21294377, 0.13591121, 0.56687434, 0.15733404,\n",
       "       0.21963747, 0.71950734, 0.86910493, 0.63325264, 0.95613918])"
      ]
     },
     "execution_count": 60,
     "metadata": {},
     "output_type": "execute_result"
    }
   ],
   "source": [
    "rg = np.random.default_rng(2)\n",
    "nuevo = rg.random(1000)\n",
    "nuevo"
   ]
  },
  {
   "cell_type": "code",
   "execution_count": 61,
   "id": "740aadcc",
   "metadata": {},
   "outputs": [
    {
     "data": {
      "image/png": "[encoded data removed]",
      "text/plain": [
       "<Figure size 640x480 with 1 Axes>"
      ]
     },
     "metadata": {},
     "output_type": "display_data"
    }
   ],
   "source": [
    "plt.hist(nuevo,bins=100)\n",
    "plt.show()"
   ]
  },
  {
   "cell_type": "code",
   "execution_count": 62,
   "id": "316b25b1",
   "metadata": {},
   "outputs": [
    {
     "data": {
      "text/plain": [
       "array([13.51638928, 14.60947682,  6.23501862, ...,  3.56636798,\n",
       "        8.66660197, 12.61968552])"
      ]
     },
     "execution_count": 62,
     "metadata": {},
     "output_type": "execute_result"
    }
   ],
   "source": [
    "normal = rg.normal(10,5,100000)\n",
    "normal"
   ]
  },
  {
   "cell_type": "code",
   "execution_count": 64,
   "id": "a2ea4b13",
   "metadata": {},
   "outputs": [
    {
     "data": {
      "text/plain": [
       "array([ 6, 10,  0, 12,  3, 14,  6, 10, 16, 15,  8, 17, 14, 14,  3, 19, 11,\n",
       "        5,  4,  4, 19, 12, 11, 14,  7, 18,  8,  7, 16, 15,  9, 12,  1,  1,\n",
       "        0,  4,  0,  3, 15, 17, 14,  2,  1,  7,  3,  0,  1,  8, 14, 12,  6,\n",
       "        4,  3,  5,  5,  0, 15, 11, 11,  0,  9, 12,  5,  1, 12,  4,  7,  7,\n",
       "       19, 17, 11,  4,  6,  0,  7, 12,  0,  7,  7,  9, 19,  7, 19, 19,  4,\n",
       "        3,  9,  5,  1,  8, 18, 19, 17, 12,  1, 16, 12, 17,  9, 17, 11, 12,\n",
       "       14, 12,  7, 17, 18,  2, 17,  5,  7, 12, 11, 14, 17,  7, 19, 12,  1,\n",
       "       13,  2, 10, 15, 16,  8,  6,  8,  2, 17,  7, 15,  7,  1,  6,  1,  0,\n",
       "       13, 16, 14,  3,  6, 12, 16,  1,  2, 17,  5, 12, 13,  9, 18,  6,  3,\n",
       "       13, 19,  3, 15, 10, 18,  0,  0, 18,  7,  1,  7,  9, 14,  7, 18, 17,\n",
       "       17, 17, 17, 13,  6,  2, 16, 19, 17, 12,  6, 19,  9,  2,  5, 17,  2,\n",
       "        5, 15, 16, 13, 15, 18, 13, 19,  4,  6, 14,  3,  0,  6, 15, 16, 16,\n",
       "       10, 14, 19,  5, 15,  8, 10,  1, 12,  6, 10, 11,  7, 18, 15,  8,  4,\n",
       "       13,  3, 11, 18,  2, 16, 19,  5, 12, 18,  1, 16, 16,  5, 18, 16, 18,\n",
       "        7, 15,  3,  7, 17, 11, 15, 17, 12, 19,  4,  6, 12,  2, 18,  0,  2,\n",
       "       19, 12,  2,  9, 13,  9,  5,  6, 11,  2, 14, 11, 18, 19,  1, 16, 14,\n",
       "        6,  1, 11, 16, 14, 19,  0, 15, 12,  1,  7,  5,  2,  3,  1, 12,  6,\n",
       "        2, 11,  5,  9,  1, 18,  9,  9, 12,  6, 10, 12,  5, 15, 11,  6, 11,\n",
       "       10,  3, 17,  7,  9, 13, 16, 17, 18, 11,  2, 18,  5,  6,  7, 17, 17,\n",
       "       18, 16,  1, 15, 11,  2,  8,  7,  9, 11,  3,  2,  2,  3, 13,  8,  9,\n",
       "       16,  1, 12,  4, 16, 16, 15, 17, 11, 10,  9, 12,  6,  4, 12,  1, 17,\n",
       "       18, 19,  8,  8, 13,  6, 13, 10, 13,  5, 13, 12,  4,  3,  8, 18,  7,\n",
       "        3,  4, 17,  9,  8, 14, 17,  4,  1,  3, 11, 10, 16,  1, 18,  7,  6,\n",
       "        3, 19,  2,  1, 13, 11, 12, 16, 12, 10, 16,  7,  8, 18, 17,  4,  8,\n",
       "       19,  6,  7,  8,  5,  4, 17,  9,  8, 17,  3, 12,  1,  3, 10,  0, 14,\n",
       "        9, 13, 10, 11,  5,  1, 16, 10, 12,  8,  0,  0,  1,  2,  8,  7,  2,\n",
       "        5,  1, 12,  0,  3, 13,  2, 16,  3, 16,  5,  1, 12, 13,  6,  8,  8,\n",
       "       15,  3,  7, 18,  5,  4, 10, 16, 11, 10,  2, 11, 19, 12,  6,  0,  0,\n",
       "        4,  4, 19, 16,  8,  2,  2, 13,  0, 13, 14, 17,  8,  3,  2,  1, 14,\n",
       "       17,  3,  4, 13, 16,  5, 19, 17, 11,  9,  9, 13, 17,  4, 13, 12, 11,\n",
       "        1,  9, 19, 19, 16, 10,  6, 18,  7, 11, 13,  1,  8, 13,  3,  0, 16,\n",
       "        2, 17,  4,  8,  6,  6,  8,  9,  6, 10, 19,  3, 13, 10,  4,  1, 14,\n",
       "        0,  8, 18, 18,  3,  1, 19, 14,  3,  5,  6,  7, 10,  1,  0, 13,  9,\n",
       "       15, 19, 19,  7,  0,  0, 17, 13, 15,  0, 17,  3, 18,  4, 12, 13,  3,\n",
       "       14,  9, 18,  5, 10, 13, 13, 11,  1, 14, 16,  2,  8, 16, 17, 13,  5,\n",
       "       17,  4, 18, 18, 10, 12, 15,  8,  9,  3, 10,  6,  6, 18,  6,  6,  9,\n",
       "        5,  7,  3, 15, 14, 18, 10,  2, 10, 10,  9, 18,  2,  4,  0, 19,  0,\n",
       "        3, 11, 11, 10, 10, 14,  3, 14,  2,  6, 15, 11, 13, 15,  8,  0,  5,\n",
       "       19, 14,  8, 19, 10,  3,  9,  5, 15,  7, 11, 12,  0, 10,  3, 13, 12,\n",
       "       15,  7,  9, 13,  7,  6, 12, 19, 10, 19, 15,  5, 14,  0,  6, 15, 18,\n",
       "        1, 19,  5, 13, 13, 17,  1,  5,  7,  4,  6, 12,  8,  3,  1, 14,  5,\n",
       "       17,  8, 14,  3,  1, 18,  5,  3, 13, 18,  5, 16,  2, 14,  8,  4,  1,\n",
       "        9,  4,  0, 15,  5,  4, 11,  4, 10, 16, 14, 10,  6, 10, 17,  6, 17,\n",
       "        6,  7, 15,  4, 14, 15,  5,  2,  9,  2,  7, 15, 12, 11, 16,  7, 11,\n",
       "       17,  9, 15,  8,  8, 19, 18,  3,  8,  3,  5, 15,  6, 15,  9,  4, 14,\n",
       "       14,  3, 12, 19,  6, 16,  5, 10, 10, 11,  0,  9,  7,  8, 11,  3, 12,\n",
       "        5, 15,  8,  7,  9, 18, 19, 18,  7, 13, 15,  7,  6,  5,  7,  2,  8,\n",
       "       12, 18, 13,  9,  5,  0, 19,  6,  5,  5,  2,  0, 18, 18, 18, 19, 13,\n",
       "        3,  9, 14, 14, 15, 15,  4,  7,  1, 13,  8,  9,  5, 17, 13,  1,  3,\n",
       "        7, 14,  4, 14, 10,  6, 10,  8, 13,  3,  7,  0,  3,  3,  7, 19,  2,\n",
       "       16,  3,  5, 13,  6,  0,  7, 16, 18,  5, 12,  9, 12,  9, 13, 14,  2,\n",
       "        6,  3,  1, 13, 15,  7, 12, 15, 17, 15, 15,  6, 11,  1, 16,  9,  8,\n",
       "        0, 17, 11,  2,  7, 18,  3, 16,  9, 17, 13, 13, 10,  7, 19,  5, 17,\n",
       "       19, 15, 10, 12, 14,  6, 12,  9, 19, 17, 15,  8,  2,  4, 14,  6, 19,\n",
       "        4, 16,  7,  1,  7, 12,  7, 15,  5, 11,  3, 18,  2,  5,  7,  3, 10,\n",
       "        2,  9,  4,  9, 17, 16, 18, 14,  7, 18, 13,  0,  7, 17, 18,  1, 15,\n",
       "       17,  7,  9, 13,  5, 19, 15,  5,  0,  0, 16, 10,  4,  9, 15,  3,  0,\n",
       "       14, 13,  0, 10, 13, 19,  2,  9,  6, 12,  2,  4,  2, 15, 13,  7, 14,\n",
       "        5, 10,  0, 14, 12, 14, 14,  2,  4, 10,  0, 16, 14,  9],\n",
       "      dtype=int64)"
      ]
     },
     "execution_count": 64,
     "metadata": {},
     "output_type": "execute_result"
    }
   ],
   "source": [
    "enteros = rg.integers(20, size=1000)\n",
    "enteros"
   ]
  },
  {
   "cell_type": "code",
   "execution_count": 66,
   "id": "b73a01bf",
   "metadata": {},
   "outputs": [],
   "source": [
    "estadistica = rg.choice(26,size=10 , replace=8)"
   ]
  },
  {
   "cell_type": "code",
   "execution_count": 68,
   "id": "6e1cb9d9",
   "metadata": {},
   "outputs": [
    {
     "data": {
      "text/plain": [
       "3"
      ]
     },
     "execution_count": 68,
     "metadata": {},
     "output_type": "execute_result"
    }
   ],
   "source": [
    "estadistica.min()"
   ]
  }
 ],
 "metadata": {
  "kernelspec": {
   "display_name": "base",
   "language": "python",
   "name": "python3"
  },
  "language_info": {
   "codemirror_mode": {
    "name": "ipython",
    "version": 3
   },
   "file_extension": ".py",
   "mimetype": "text/x-python",
   "name": "python",
   "nbconvert_exporter": "python",
   "pygments_lexer": "ipython3",
   "version": "3.12.7"
  }
 },
 "nbformat": 4,
 "nbformat_minor": 5
}
