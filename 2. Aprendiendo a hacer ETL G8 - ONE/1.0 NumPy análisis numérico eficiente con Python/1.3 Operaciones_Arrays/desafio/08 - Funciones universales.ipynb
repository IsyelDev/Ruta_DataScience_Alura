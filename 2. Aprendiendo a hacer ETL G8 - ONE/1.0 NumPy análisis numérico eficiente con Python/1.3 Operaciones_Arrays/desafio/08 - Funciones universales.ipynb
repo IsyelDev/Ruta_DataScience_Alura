{
 "cells": [
  {
   "cell_type": "markdown",
   "id": "b785ad60",
   "metadata": {},
   "source": [
    "# Funciones universales\n",
    "\n",
    "En esta lección vamos a ver algunas de las funciones universales. Se llaman así porque sirven para aplicar funciones matemáticas comunes en los elementos.\n",
    "\n",
    "\n",
    "Podemos encontrar:\n",
    "\n",
    "* Operaciones matemáticas\n",
    "* Operaciones trigonométricas\n",
    "* Operaciones comparativas\n",
    "* Operaciones flotantes\n",
    "* Operaciones de intercambio de bits\n",
    "\n",
    "[En la documentación oficial](https://docs.scipy.org/doc/numpy/reference/ufuncs.html#available-ufuncs) encontraréis el listado completo con ejemplos de uso, vamos a practicar las más utilizadas.\n",
    "\n",
    "## Matemáticas"
   ]
  },
  {
   "cell_type": "code",
   "execution_count": 1,
   "id": "179802bf",
   "metadata": {},
   "outputs": [],
   "source": [
    "import numpy as np\n",
    "\n",
    "# arrays de prueba\n",
    "arr_1 = np.arange(1,6)\n",
    "arr_2 = np.array([-3,7,3,13,0])"
   ]
  },
  {
   "cell_type": "code",
   "execution_count": 2,
   "id": "29699b1a",
   "metadata": {},
   "outputs": [
    {
     "data": {
      "text/plain": [
       "array([-2,  9,  6, 17,  5])"
      ]
     },
     "execution_count": 2,
     "metadata": {},
     "output_type": "execute_result"
    }
   ],
   "source": [
    "# suma\n",
    "np.add(arr_1, arr_2)"
   ]
  },
  {
   "cell_type": "code",
   "execution_count": 3,
   "id": "0232c775",
   "metadata": {},
   "outputs": [
    {
     "data": {
      "text/plain": [
       "array([-4,  5,  0,  9, -5])"
      ]
     },
     "execution_count": 3,
     "metadata": {},
     "output_type": "execute_result"
    }
   ],
   "source": [
    "# resta\n",
    "np.subtract(arr_2, arr_1)"
   ]
  },
  {
   "cell_type": "code",
   "execution_count": 4,
   "id": "e77abe90",
   "metadata": {},
   "outputs": [
    {
     "data": {
      "text/plain": [
       "array([1.        , 1.41421356, 1.73205081, 2.        , 2.23606798])"
      ]
     },
     "execution_count": 4,
     "metadata": {},
     "output_type": "execute_result"
    }
   ],
   "source": [
    "# raiz cuadrada\n",
    "np.sqrt(arr_1)"
   ]
  },
  {
   "cell_type": "code",
   "execution_count": 5,
   "id": "a5827067",
   "metadata": {},
   "outputs": [
    {
     "data": {
      "text/plain": [
       "array([ 1,  4,  9, 16, 25], dtype=int32)"
      ]
     },
     "execution_count": 5,
     "metadata": {},
     "output_type": "execute_result"
    }
   ],
   "source": [
    "# potencia\n",
    "np.power(arr_1, 2)"
   ]
  },
  {
   "cell_type": "code",
   "execution_count": 6,
   "id": "0f0b8373",
   "metadata": {},
   "outputs": [
    {
     "data": {
      "text/plain": [
       "array([1, 1, 1, 1, 1])"
      ]
     },
     "execution_count": 6,
     "metadata": {},
     "output_type": "execute_result"
    }
   ],
   "source": [
    "# signo\n",
    "np.sign(arr_1)"
   ]
  },
  {
   "cell_type": "markdown",
   "id": "d080857c",
   "metadata": {},
   "source": [
    "## Trigonométricas"
   ]
  },
  {
   "cell_type": "code",
   "execution_count": null,
   "id": "1c77febf",
   "metadata": {},
   "outputs": [],
   "source": [
    "# seno\n",
    "np.sin(arr_1)"
   ]
  },
  {
   "cell_type": "code",
   "execution_count": null,
   "id": "cd8ca5ef",
   "metadata": {},
   "outputs": [],
   "source": [
    "# coseno\n",
    "np.cos(arr_1)"
   ]
  },
  {
   "cell_type": "code",
   "execution_count": null,
   "id": "3cedc359",
   "metadata": {},
   "outputs": [],
   "source": [
    "# tangente\n",
    "np.tan(arr_1)"
   ]
  },
  {
   "cell_type": "code",
   "execution_count": null,
   "id": "21fcbd17",
   "metadata": {},
   "outputs": [],
   "source": [
    "# grados a radianes\n",
    "np.deg2rad(arr_1)"
   ]
  },
  {
   "cell_type": "code",
   "execution_count": null,
   "id": "e07d211e",
   "metadata": {},
   "outputs": [],
   "source": [
    "# radianes a grados\n",
    "np.rad2deg(arr_1)"
   ]
  },
  {
   "cell_type": "markdown",
   "id": "7eca8d96",
   "metadata": {},
   "source": [
    "## Comparativas"
   ]
  },
  {
   "cell_type": "code",
   "execution_count": 8,
   "id": "4e87b90c",
   "metadata": {},
   "outputs": [
    {
     "data": {
      "text/plain": [
       "array([ 1,  7,  3, 13,  5])"
      ]
     },
     "execution_count": 8,
     "metadata": {},
     "output_type": "execute_result"
    }
   ],
   "source": [
    "# máximo\n",
    "np.maximum(arr_1, arr_2)"
   ]
  },
  {
   "cell_type": "code",
   "execution_count": 9,
   "id": "04558e7a",
   "metadata": {},
   "outputs": [
    {
     "data": {
      "text/plain": [
       "array([-3,  2,  3,  4,  0])"
      ]
     },
     "execution_count": 9,
     "metadata": {},
     "output_type": "execute_result"
    }
   ],
   "source": [
    "# mínimo\n",
    "np.minimum(arr_1, arr_2)"
   ]
  },
  {
   "cell_type": "code",
   "execution_count": 10,
   "id": "ead11e65",
   "metadata": {},
   "outputs": [
    {
     "data": {
      "text/plain": [
       "array([False, False,  True, False, False])"
      ]
     },
     "execution_count": 10,
     "metadata": {},
     "output_type": "execute_result"
    }
   ],
   "source": [
    "# igual que\n",
    "np.equal(arr_1, arr_2)"
   ]
  },
  {
   "cell_type": "code",
   "execution_count": 11,
   "id": "e6be0e06",
   "metadata": {},
   "outputs": [
    {
     "data": {
      "text/plain": [
       "array([ True, False, False, False,  True])"
      ]
     },
     "execution_count": 11,
     "metadata": {},
     "output_type": "execute_result"
    }
   ],
   "source": [
    "# mayor que\n",
    "np.greater(arr_1, arr_2)"
   ]
  },
  {
   "cell_type": "markdown",
   "id": "645a5de4",
   "metadata": {},
   "source": [
    "## Flotantes"
   ]
  },
  {
   "cell_type": "code",
   "execution_count": null,
   "id": "882cdfd6",
   "metadata": {},
   "outputs": [],
   "source": [
    "# tercer array de prueba\n",
    "arr_3 = np.array([3.14, 2.57, -6.4, 0.47, 5.5])"
   ]
  },
  {
   "cell_type": "code",
   "execution_count": null,
   "id": "91ceeb0b",
   "metadata": {},
   "outputs": [],
   "source": [
    "# valor absoluto\n",
    "np.fabs(arr_3)"
   ]
  },
  {
   "cell_type": "code",
   "execution_count": null,
   "id": "04b461b6",
   "metadata": {},
   "outputs": [],
   "source": [
    "# techo (redondeo entero al alza)\n",
    "np.ceil(arr_3)"
   ]
  },
  {
   "cell_type": "code",
   "execution_count": null,
   "id": "2171b21c",
   "metadata": {},
   "outputs": [],
   "source": [
    "# suelo (redondeo entero a la baja)\n",
    "np.floor(arr_3)"
   ]
  },
  {
   "cell_type": "code",
   "execution_count": null,
   "id": "81032c7d",
   "metadata": {},
   "outputs": [],
   "source": []
  }
 ],
 "metadata": {
  "kernelspec": {
   "display_name": "base",
   "language": "python",
   "name": "python3"
  },
  "language_info": {
   "codemirror_mode": {
    "name": "ipython",
    "version": 3
   },
   "file_extension": ".py",
   "mimetype": "text/x-python",
   "name": "python",
   "nbconvert_exporter": "python",
   "pygments_lexer": "ipython3",
   "version": "3.12.7"
  }
 },
 "nbformat": 4,
 "nbformat_minor": 5
}
