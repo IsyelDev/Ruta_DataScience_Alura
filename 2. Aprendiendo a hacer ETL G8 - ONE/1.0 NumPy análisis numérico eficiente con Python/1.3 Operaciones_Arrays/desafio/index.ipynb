{
 "cells": [
  {
   "cell_type": "code",
   "execution_count": 2,
   "id": "7208d544",
   "metadata": {},
   "outputs": [],
   "source": [
    "import pandas as pd\n",
    "import numpy as np"
   ]
  },
  {
   "cell_type": "code",
   "execution_count": 38,
   "id": "df1ad653",
   "metadata": {},
   "outputs": [],
   "source": [
    "bebe =np.linspace(0,10,100)"
   ]
  },
  {
   "cell_type": "code",
   "execution_count": 28,
   "id": "55148e34",
   "metadata": {},
   "outputs": [
    {
     "name": "stdout",
     "output_type": "stream",
     "text": [
      "9\n"
     ]
    },
    {
     "data": {
      "text/plain": [
       "array([[0, 1, 2, 3, 4],\n",
       "       [5, 6, 7, 8, 9]])"
      ]
     },
     "execution_count": 28,
     "metadata": {},
     "output_type": "execute_result"
    }
   ],
   "source": [
    "lista_nueva = np.array(np.arange(0,10,1))\n",
    "print(np.count_nonzero(lista_nueva))\n",
    "lista_nueva.reshape(2,5)\n"
   ]
  },
  {
   "cell_type": "code",
   "execution_count": 29,
   "id": "8cb5de81",
   "metadata": {},
   "outputs": [
    {
     "data": {
      "text/plain": [
       "array([[0],\n",
       "       [2],\n",
       "       [4],\n",
       "       [6],\n",
       "       [8]])"
      ]
     },
     "execution_count": 29,
     "metadata": {},
     "output_type": "execute_result"
    }
   ],
   "source": [
    "np.arange(0,10,2).reshape(5,1)"
   ]
  },
  {
   "cell_type": "code",
   "execution_count": 45,
   "id": "9f5a6287",
   "metadata": {},
   "outputs": [
    {
     "data": {
      "text/plain": [
       "8"
      ]
     },
     "execution_count": 45,
     "metadata": {},
     "output_type": "execute_result"
    }
   ],
   "source": [
    "np.size(bebe)\n",
    "np.ndim(bebe)\n",
    "np.shape(bebe)\n",
    "\n",
    "bebe.itemsize"
   ]
  },
  {
   "cell_type": "code",
   "execution_count": 46,
   "id": "3ef916f5",
   "metadata": {},
   "outputs": [],
   "source": [
    "import sqlite3"
   ]
  },
  {
   "cell_type": "code",
   "execution_count": 47,
   "id": "80074f94",
   "metadata": {},
   "outputs": [
    {
     "data": {
      "text/plain": [
       "<sqlite3.Connection at 0x16463a19030>"
      ]
     },
     "execution_count": 47,
     "metadata": {},
     "output_type": "execute_result"
    }
   ],
   "source": [
    "conection = sqlite3.connect(\"example.db\")\n",
    "conection"
   ]
  },
  {
   "cell_type": "code",
   "execution_count": 48,
   "id": "167f3cf7",
   "metadata": {},
   "outputs": [],
   "source": [
    "cursor = conection.cursor()"
   ]
  },
  {
   "cell_type": "code",
   "execution_count": 50,
   "id": "a232df88",
   "metadata": {},
   "outputs": [],
   "source": [
    "cursor.execute(\n",
    "    \"\"\"\n",
    "    create table if not Exists employed(\n",
    "        id Integer Primary key,\n",
    "        name Text Not Null,\n",
    "        age Integer,\n",
    "        departamento text\n",
    "    )\n",
    "    \"\"\"\n",
    ")\n",
    "conection.commit()"
   ]
  },
  {
   "cell_type": "code",
   "execution_count": 52,
   "id": "0eefd98f",
   "metadata": {},
   "outputs": [],
   "source": [
    "cursor.execute(\"\"\"insert into employed(name,age,departamento) values(\"elmer\",15,\"Lima\")\"\"\")\n",
    "conection.commit()"
   ]
  },
  {
   "cell_type": "code",
   "execution_count": 54,
   "id": "f8b8dab2",
   "metadata": {},
   "outputs": [
    {
     "name": "stdout",
     "output_type": "stream",
     "text": [
      "(1, 'elmer', 15, 'Lima')\n",
      "(2, 'elmer', 15, 'Lima')\n"
     ]
    }
   ],
   "source": [
    "cursor.execute(\"select * from employed\")\n",
    "rows = cursor.fetchall()\n",
    "\n",
    "\n",
    "for row in rows:\n",
    "    print(row)"
   ]
  }
 ],
 "metadata": {
  "kernelspec": {
   "display_name": "base",
   "language": "python",
   "name": "python3"
  },
  "language_info": {
   "codemirror_mode": {
    "name": "ipython",
    "version": 3
   },
   "file_extension": ".py",
   "mimetype": "text/x-python",
   "name": "python",
   "nbconvert_exporter": "python",
   "pygments_lexer": "ipython3",
   "version": "3.12.7"
  }
 },
 "nbformat": 4,
 "nbformat_minor": 5
}
