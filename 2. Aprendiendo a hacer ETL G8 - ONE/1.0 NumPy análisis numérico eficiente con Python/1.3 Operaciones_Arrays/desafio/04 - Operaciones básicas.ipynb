{
 "cells": [
  {
   "cell_type": "markdown",
   "id": "d6e2777a",
   "metadata": {},
   "source": [
    "# Operaciones básicas\n",
    "\n",
    "La clase array es muy flexible y permite muchas operaciones entre dos arrays, aunque con algunos requisitos.\n",
    "\n",
    "## Suma\n",
    "\n",
    "Por ejemplo las operaciones `suma` y `resta` requieren que los arrays tengan la misma forma, es decir, mismo número y tamaño de las dimensiones."
   ]
  },
  {
   "cell_type": "code",
   "execution_count": 22,
   "id": "969976a8",
   "metadata": {},
   "outputs": [
    {
     "data": {
      "text/plain": [
       "array([ 6,  8, 10, 12])"
      ]
     },
     "execution_count": 22,
     "metadata": {},
     "output_type": "execute_result"
    }
   ],
   "source": [
    "import numpy as np\n",
    "\n",
    "# Dos arrays\n",
    "arr_1 = np.array([1,2,3,4])\n",
    "arr_2 = np.array([5,6,7,8])\n",
    "\n",
    "# Los sumamos\n",
    "arr_1 + arr_2"
   ]
  },
  {
   "cell_type": "markdown",
   "id": "f62a6005",
   "metadata": {},
   "source": [
    "Si no tienen la misma forma no podemos sumarlos:"
   ]
  },
  {
   "cell_type": "code",
   "execution_count": 25,
   "id": "66456b2f",
   "metadata": {},
   "outputs": [
    {
     "data": {
      "text/plain": [
       "array([14, 16, 22,  9])"
      ]
     },
     "execution_count": 25,
     "metadata": {},
     "output_type": "execute_result"
    }
   ],
   "source": [
    "arr_3 = np.array([9,10,15,1])\n",
    "\n",
    "arr_2 + arr_3"
   ]
  },
  {
   "cell_type": "markdown",
   "id": "b290fef0",
   "metadata": {},
   "source": [
    "## Resta"
   ]
  },
  {
   "cell_type": "code",
   "execution_count": null,
   "id": "56c8d9d0",
   "metadata": {},
   "outputs": [
    {
     "data": {
      "text/plain": [
       "array([4, 4, 4, 4])"
      ]
     },
     "execution_count": 7,
     "metadata": {},
     "output_type": "execute_result"
    }
   ],
   "source": [
    "arr_2 - arr_1"
   ]
  },
  {
   "cell_type": "markdown",
   "id": "4e60dd52",
   "metadata": {},
   "source": [
    "¿Qué ocurriría si restamos un array a si mismo?"
   ]
  },
  {
   "cell_type": "code",
   "execution_count": null,
   "id": "0b003a2b",
   "metadata": {},
   "outputs": [
    {
     "data": {
      "text/plain": [
       "array([0, 0, 0, 0])"
      ]
     },
     "execution_count": 8,
     "metadata": {},
     "output_type": "execute_result"
    }
   ],
   "source": [
    "arr_1 - arr_1"
   ]
  },
  {
   "cell_type": "markdown",
   "id": "c69e189e",
   "metadata": {},
   "source": [
    "Pues que obtenemos un array con todos los valores a cero.\n",
    "\n",
    "## Producto\n",
    "\n",
    "En el caso del `producto`, la `divisón` y la `potencia` se pueden operar arrays de las mismas dimensiones si el número de columnas de la primera coincide con el número de filas de la segunda:"
   ]
  },
  {
   "cell_type": "code",
   "execution_count": null,
   "id": "74bc4c44",
   "metadata": {},
   "outputs": [
    {
     "data": {
      "text/plain": [
       "array([ 2,  6, 12, 20])"
      ]
     },
     "execution_count": 9,
     "metadata": {},
     "output_type": "execute_result"
    }
   ],
   "source": [
    "# Dos arrays\n",
    "arr_1 = np.array([1,2,3,4])\n",
    "arr_2 = np.array([2,3,4,5])\n",
    "\n",
    "# Los multiplicamos\n",
    "arr_1 * arr_2"
   ]
  },
  {
   "cell_type": "markdown",
   "id": "5ca18d83",
   "metadata": {},
   "source": [
    "También podemos multiplicar un array por un número:"
   ]
  },
  {
   "cell_type": "code",
   "execution_count": null,
   "id": "ff62e756",
   "metadata": {},
   "outputs": [
    {
     "data": {
      "text/plain": [
       "array([10, 20, 30, 40])"
      ]
     },
     "execution_count": 10,
     "metadata": {},
     "output_type": "execute_result"
    }
   ],
   "source": [
    "arr_1 * 10"
   ]
  },
  {
   "cell_type": "markdown",
   "id": "4f777979",
   "metadata": {},
   "source": [
    "En este caso sería equivalente a multiplicar un `array` con una fila y una columna `1x1`:"
   ]
  },
  {
   "cell_type": "code",
   "execution_count": null,
   "id": "5ff8b419",
   "metadata": {},
   "outputs": [
    {
     "data": {
      "text/plain": [
       "array([10, 20, 30, 40])"
      ]
     },
     "execution_count": 12,
     "metadata": {},
     "output_type": "execute_result"
    }
   ],
   "source": [
    "arr_1 * np.array(10)"
   ]
  },
  {
   "cell_type": "markdown",
   "id": "12136e1c",
   "metadata": {},
   "source": [
    "## División\n",
    "\n",
    "Igual que el producto, la división entre arrays se basa en dividir cada elemento de un array por el elemento en la misma posición del otro:"
   ]
  },
  {
   "cell_type": "code",
   "execution_count": null,
   "id": "b9e432e1",
   "metadata": {},
   "outputs": [
    {
     "data": {
      "text/plain": [
       "array([0.5       , 0.66666667, 0.75      , 0.8       ])"
      ]
     },
     "execution_count": 13,
     "metadata": {},
     "output_type": "execute_result"
    }
   ],
   "source": [
    "arr_1 / arr_2"
   ]
  },
  {
   "cell_type": "markdown",
   "id": "7d164204",
   "metadata": {},
   "source": [
    "También podemos dividir todos sus elementos por un número:"
   ]
  },
  {
   "cell_type": "code",
   "execution_count": null,
   "id": "26358c30",
   "metadata": {},
   "outputs": [
    {
     "data": {
      "text/plain": [
       "array([0.5, 1. , 1.5, 2. ])"
      ]
     },
     "execution_count": 14,
     "metadata": {},
     "output_type": "execute_result"
    }
   ],
   "source": [
    "arr_1 / 2"
   ]
  },
  {
   "cell_type": "markdown",
   "id": "22817a9b",
   "metadata": {},
   "source": [
    "Algo interesante que podemos hacer con la división es conseguir el arreglo inverso o recíproco dividiendo 1 entre el array:"
   ]
  },
  {
   "cell_type": "code",
   "execution_count": null,
   "id": "ebd0c451",
   "metadata": {},
   "outputs": [
    {
     "data": {
      "text/plain": [
       "array([1.        , 0.5       , 0.33333333, 0.25      ])"
      ]
     },
     "execution_count": 17,
     "metadata": {},
     "output_type": "execute_result"
    }
   ],
   "source": [
    "1 / arr_1"
   ]
  },
  {
   "cell_type": "markdown",
   "id": "f40a9b8a",
   "metadata": {},
   "source": [
    "Esto es equivalente hacer la potencia a `-1` del array:"
   ]
  },
  {
   "cell_type": "code",
   "execution_count": 26,
   "id": "cde8981e",
   "metadata": {},
   "outputs": [
    {
     "data": {
      "text/plain": [
       "array([1.        , 0.5       , 0.33333333, 0.25      ])"
      ]
     },
     "execution_count": 26,
     "metadata": {},
     "output_type": "execute_result"
    }
   ],
   "source": [
    "arr_1 ** -1."
   ]
  },
  {
   "cell_type": "markdown",
   "id": "9c633dd0",
   "metadata": {},
   "source": [
    "No podemos elevar a un entero negativo, pero sí podemos indicar la elevación a`-1.` e indicar un decimal:"
   ]
  },
  {
   "cell_type": "code",
   "execution_count": null,
   "id": "2d99600b",
   "metadata": {},
   "outputs": [],
   "source": [
    "arr_1 ** -1."
   ]
  },
  {
   "cell_type": "markdown",
   "id": "f1cf174d",
   "metadata": {},
   "source": [
    "Ya que estamos con las potencias, también podemos hacer potencias entre arrays.\n",
    "\n",
    "## Potencia\n",
    "\n",
    "Como es normal, se basa en realizar la potencia entre los valores que comparten posición en los arrays:"
   ]
  },
  {
   "cell_type": "code",
   "execution_count": null,
   "id": "d65021da",
   "metadata": {},
   "outputs": [],
   "source": [
    "arr_1 ** arr_2"
   ]
  },
  {
   "cell_type": "markdown",
   "id": "48dfe093",
   "metadata": {},
   "source": [
    "## Operaciones en arrays 2D\n",
    "\n",
    "Todo lo que hemos visto aplica también a los arrays de dos dimensiones:"
   ]
  },
  {
   "cell_type": "code",
   "execution_count": 27,
   "id": "4b63d9ca",
   "metadata": {},
   "outputs": [
    {
     "data": {
      "text/plain": [
       "array([[ 6,  8],\n",
       "       [10, 12]])"
      ]
     },
     "execution_count": 27,
     "metadata": {},
     "output_type": "execute_result"
    }
   ],
   "source": [
    "arr_5 = np.array([[1,2],[3,4]])\n",
    "arr_6 = np.array([[5,6],[7,8]])\n",
    "\n",
    "arr_5 + arr_6"
   ]
  },
  {
   "cell_type": "markdown",
   "id": "a409cfd6",
   "metadata": {},
   "source": [
    "Se realiza la operación entre los valores que comparten posición en los arrays:\n",
    "\n",
    "\n",
    "`[[1+5, 2+6], [3+7, 4+8]] = [[6, 8], [10, 12]]`\n",
    "\n",
    "De igual forma funcionaría el producto, división y potencia por un número:"
   ]
  },
  {
   "cell_type": "code",
   "execution_count": 28,
   "id": "57623dd0",
   "metadata": {},
   "outputs": [
    {
     "data": {
      "text/plain": [
       "array([[ 3,  6],\n",
       "       [ 9, 12]])"
      ]
     },
     "execution_count": 28,
     "metadata": {},
     "output_type": "execute_result"
    }
   ],
   "source": [
    "arr_5 * 3"
   ]
  },
  {
   "cell_type": "markdown",
   "id": "0a77c320",
   "metadata": {},
   "source": [
    "`[[1x3, 2x3], [3x3, 4x3]] = [[3, 6], [9, 12]]`"
   ]
  },
  {
   "cell_type": "markdown",
   "id": "96b9078c",
   "metadata": {},
   "source": [
    "Podemos multiplicar, dividir y potenciar matrices siempre que el número de columnas de la primera coincida con el número de reglones de la segunda:"
   ]
  },
  {
   "cell_type": "code",
   "execution_count": 29,
   "id": "4b132f37",
   "metadata": {},
   "outputs": [
    {
     "data": {
      "text/plain": [
       "array([[ 5, 20],\n",
       "       [15, 40]])"
      ]
     },
     "execution_count": 29,
     "metadata": {},
     "output_type": "execute_result"
    }
   ],
   "source": [
    "arr_5 * np.array([5,10])"
   ]
  },
  {
   "cell_type": "markdown",
   "id": "dd2fb506",
   "metadata": {},
   "source": [
    "Si esto no se cumple..."
   ]
  },
  {
   "cell_type": "code",
   "execution_count": 31,
   "id": "c448e483",
   "metadata": {},
   "outputs": [
    {
     "data": {
      "text/plain": [
       "array([[ 5, 20],\n",
       "       [15, 40]])"
      ]
     },
     "execution_count": 31,
     "metadata": {},
     "output_type": "execute_result"
    }
   ],
   "source": [
    "arr_5 * np.array([5,10])"
   ]
  },
  {
   "cell_type": "code",
   "execution_count": null,
   "id": "16a6ce2c",
   "metadata": {},
   "outputs": [],
   "source": []
  }
 ],
 "metadata": {
  "kernelspec": {
   "display_name": "base",
   "language": "python",
   "name": "python3"
  },
  "language_info": {
   "codemirror_mode": {
    "name": "ipython",
    "version": 3
   },
   "file_extension": ".py",
   "mimetype": "text/x-python",
   "name": "python",
   "nbconvert_exporter": "python",
   "pygments_lexer": "ipython3",
   "version": "3.12.7"
  }
 },
 "nbformat": 4,
 "nbformat_minor": 5
}
