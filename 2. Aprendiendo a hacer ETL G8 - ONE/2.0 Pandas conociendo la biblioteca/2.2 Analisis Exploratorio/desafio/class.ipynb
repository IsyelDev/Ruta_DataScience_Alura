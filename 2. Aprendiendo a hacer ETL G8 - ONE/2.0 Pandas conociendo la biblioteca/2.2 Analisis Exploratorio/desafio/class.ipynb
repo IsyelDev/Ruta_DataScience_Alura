{
 "cells": [
  {
   "cell_type": "code",
   "execution_count": 2,
   "id": "472d09d5",
   "metadata": {},
   "outputs": [
    {
     "data": {
      "text/html": [
       "<div>\n",
       "<style scoped>\n",
       "    .dataframe tbody tr th:only-of-type {\n",
       "        vertical-align: middle;\n",
       "    }\n",
       "\n",
       "    .dataframe tbody tr th {\n",
       "        vertical-align: top;\n",
       "    }\n",
       "\n",
       "    .dataframe thead th {\n",
       "        text-align: right;\n",
       "    }\n",
       "</style>\n",
       "<table border=\"1\" class=\"dataframe\">\n",
       "  <thead>\n",
       "    <tr style=\"text-align: right;\">\n",
       "      <th></th>\n",
       "      <th>Tipo</th>\n",
       "      <th>Colonia</th>\n",
       "      <th>Habitaciones</th>\n",
       "      <th>Garages</th>\n",
       "      <th>Suites</th>\n",
       "      <th>Area</th>\n",
       "      <th>Valor</th>\n",
       "      <th>Condominio</th>\n",
       "      <th>Impuesto</th>\n",
       "    </tr>\n",
       "  </thead>\n",
       "  <tbody>\n",
       "    <tr>\n",
       "      <th>0</th>\n",
       "      <td>Cocineta</td>\n",
       "      <td>Condesa</td>\n",
       "      <td>1</td>\n",
       "      <td>0</td>\n",
       "      <td>0</td>\n",
       "      <td>40</td>\n",
       "      <td>5950.0</td>\n",
       "      <td>1750.0</td>\n",
       "      <td>210.0</td>\n",
       "    </tr>\n",
       "    <tr>\n",
       "      <th>1</th>\n",
       "      <td>Casa</td>\n",
       "      <td>Polanco</td>\n",
       "      <td>2</td>\n",
       "      <td>0</td>\n",
       "      <td>1</td>\n",
       "      <td>100</td>\n",
       "      <td>24500.0</td>\n",
       "      <td>NaN</td>\n",
       "      <td>NaN</td>\n",
       "    </tr>\n",
       "    <tr>\n",
       "      <th>2</th>\n",
       "      <td>Conjunto Comercial/Sala</td>\n",
       "      <td>Santa Fe</td>\n",
       "      <td>0</td>\n",
       "      <td>4</td>\n",
       "      <td>0</td>\n",
       "      <td>150</td>\n",
       "      <td>18200.0</td>\n",
       "      <td>14070.0</td>\n",
       "      <td>3888.5</td>\n",
       "    </tr>\n",
       "    <tr>\n",
       "      <th>3</th>\n",
       "      <td>Departamento</td>\n",
       "      <td>Centro Histórico</td>\n",
       "      <td>1</td>\n",
       "      <td>0</td>\n",
       "      <td>0</td>\n",
       "      <td>15</td>\n",
       "      <td>2800.0</td>\n",
       "      <td>1365.0</td>\n",
       "      <td>70.0</td>\n",
       "    </tr>\n",
       "    <tr>\n",
       "      <th>4</th>\n",
       "      <td>Departamento</td>\n",
       "      <td>Del Valle</td>\n",
       "      <td>1</td>\n",
       "      <td>0</td>\n",
       "      <td>0</td>\n",
       "      <td>48</td>\n",
       "      <td>2800.0</td>\n",
       "      <td>805.0</td>\n",
       "      <td>NaN</td>\n",
       "    </tr>\n",
       "    <tr>\n",
       "      <th>...</th>\n",
       "      <td>...</td>\n",
       "      <td>...</td>\n",
       "      <td>...</td>\n",
       "      <td>...</td>\n",
       "      <td>...</td>\n",
       "      <td>...</td>\n",
       "      <td>...</td>\n",
       "      <td>...</td>\n",
       "      <td>...</td>\n",
       "    </tr>\n",
       "    <tr>\n",
       "      <th>25116</th>\n",
       "      <td>Cochera/Estacionamiento</td>\n",
       "      <td>Centro Histórico</td>\n",
       "      <td>0</td>\n",
       "      <td>0</td>\n",
       "      <td>0</td>\n",
       "      <td>755</td>\n",
       "      <td>49000.0</td>\n",
       "      <td>NaN</td>\n",
       "      <td>NaN</td>\n",
       "    </tr>\n",
       "    <tr>\n",
       "      <th>25117</th>\n",
       "      <td>Cocineta</td>\n",
       "      <td>Centro Histórico</td>\n",
       "      <td>0</td>\n",
       "      <td>0</td>\n",
       "      <td>0</td>\n",
       "      <td>27</td>\n",
       "      <td>2800.0</td>\n",
       "      <td>1225.0</td>\n",
       "      <td>87.5</td>\n",
       "    </tr>\n",
       "    <tr>\n",
       "      <th>25118</th>\n",
       "      <td>Departamento</td>\n",
       "      <td>Mixcoac</td>\n",
       "      <td>2</td>\n",
       "      <td>1</td>\n",
       "      <td>0</td>\n",
       "      <td>48</td>\n",
       "      <td>4900.0</td>\n",
       "      <td>1781.5</td>\n",
       "      <td>129.5</td>\n",
       "    </tr>\n",
       "    <tr>\n",
       "      <th>25119</th>\n",
       "      <td>Departamento</td>\n",
       "      <td>Lomas de Chapultepec</td>\n",
       "      <td>2</td>\n",
       "      <td>0</td>\n",
       "      <td>0</td>\n",
       "      <td>70</td>\n",
       "      <td>10500.0</td>\n",
       "      <td>2660.0</td>\n",
       "      <td>NaN</td>\n",
       "    </tr>\n",
       "    <tr>\n",
       "      <th>25120</th>\n",
       "      <td>Conjunto Comercial/Sala</td>\n",
       "      <td>Centro Histórico</td>\n",
       "      <td>0</td>\n",
       "      <td>0</td>\n",
       "      <td>0</td>\n",
       "      <td>250</td>\n",
       "      <td>22750.0</td>\n",
       "      <td>14721.0</td>\n",
       "      <td>3881.5</td>\n",
       "    </tr>\n",
       "  </tbody>\n",
       "</table>\n",
       "<p>25121 rows × 9 columns</p>\n",
       "</div>"
      ],
      "text/plain": [
       "                          Tipo               Colonia  Habitaciones  Garages  \\\n",
       "0                     Cocineta               Condesa             1        0   \n",
       "1                         Casa               Polanco             2        0   \n",
       "2      Conjunto Comercial/Sala              Santa Fe             0        4   \n",
       "3                 Departamento      Centro Histórico             1        0   \n",
       "4                 Departamento             Del Valle             1        0   \n",
       "...                        ...                   ...           ...      ...   \n",
       "25116  Cochera/Estacionamiento      Centro Histórico             0        0   \n",
       "25117                 Cocineta      Centro Histórico             0        0   \n",
       "25118             Departamento               Mixcoac             2        1   \n",
       "25119             Departamento  Lomas de Chapultepec             2        0   \n",
       "25120  Conjunto Comercial/Sala      Centro Histórico             0        0   \n",
       "\n",
       "       Suites  Area    Valor  Condominio  Impuesto  \n",
       "0           0    40   5950.0      1750.0     210.0  \n",
       "1           1   100  24500.0         NaN       NaN  \n",
       "2           0   150  18200.0     14070.0    3888.5  \n",
       "3           0    15   2800.0      1365.0      70.0  \n",
       "4           0    48   2800.0       805.0       NaN  \n",
       "...       ...   ...      ...         ...       ...  \n",
       "25116       0   755  49000.0         NaN       NaN  \n",
       "25117       0    27   2800.0      1225.0      87.5  \n",
       "25118       0    48   4900.0      1781.5     129.5  \n",
       "25119       0    70  10500.0      2660.0       NaN  \n",
       "25120       0   250  22750.0     14721.0    3881.5  \n",
       "\n",
       "[25121 rows x 9 columns]"
      ]
     },
     "execution_count": 2,
     "metadata": {},
     "output_type": "execute_result"
    }
   ],
   "source": [
    "import pandas as pd\n",
    "\n",
    "url =r\"../../..//2.0 Pandas conociendo la biblioteca/data/colonias.csv\"\n",
    "# Visualiza las primeras 7 filas del DataFrame y las últimas 5.\n",
    "\n",
    "colonias = pd.read_csv(url,sep=\";\")\n",
    "colonias"
   ]
  },
  {
   "cell_type": "code",
   "execution_count": 14,
   "id": "50d7a916",
   "metadata": {},
   "outputs": [
    {
     "data": {
      "text/plain": [
       "1.7488555391903189"
      ]
     },
     "execution_count": 14,
     "metadata": {},
     "output_type": "execute_result"
    }
   ],
   "source": [
    "colonias['Habitaciones'].mean()"
   ]
  },
  {
   "cell_type": "code",
   "execution_count": 24,
   "id": "f2f5490d",
   "metadata": {},
   "outputs": [
    {
     "data": {
      "text/plain": [
       "2.5041994039555675"
      ]
     },
     "execution_count": 24,
     "metadata": {},
     "output_type": "execute_result"
    }
   ],
   "source": [
    "promedio_habitaciones = colonias.query(\"Tipo == 'Departamento'\")[\"Habitaciones\"].mean()\n",
    "promedio_habitaciones"
   ]
  },
  {
   "cell_type": "code",
   "execution_count": 26,
   "id": "f6844c20",
   "metadata": {},
   "outputs": [
    {
     "data": {
      "text/plain": [
       "88"
      ]
     },
     "execution_count": 26,
     "metadata": {},
     "output_type": "execute_result"
    }
   ],
   "source": [
    "colonias['Colonia'].nunique()"
   ]
  },
  {
   "cell_type": "code",
   "execution_count": 1,
   "id": "d7ded084",
   "metadata": {},
   "outputs": [
    {
     "ename": "NameError",
     "evalue": "name 'colonias' is not defined",
     "output_type": "error",
     "traceback": [
      "\u001b[1;31m---------------------------------------------------------------------------\u001b[0m",
      "\u001b[1;31mNameError\u001b[0m                                 Traceback (most recent call last)",
      "Cell \u001b[1;32mIn[1], line 1\u001b[0m\n\u001b[1;32m----> 1\u001b[0m \u001b[38;5;28mlen\u001b[39m(\u001b[43mcolonias\u001b[49m[\u001b[38;5;124m'\u001b[39m\u001b[38;5;124mColonia\u001b[39m\u001b[38;5;124m'\u001b[39m]\u001b[38;5;241m.\u001b[39munique())\n\u001b[0;32m      2\u001b[0m colonias\u001b[38;5;241m.\u001b[39mshape\n",
      "\u001b[1;31mNameError\u001b[0m: name 'colonias' is not defined"
     ]
    }
   ],
   "source": [
    "len(colonias['Colonia'].unique())\n",
    "colonias.shape\n"
   ]
  },
  {
   "cell_type": "code",
   "execution_count": 27,
   "id": "44ceed90",
   "metadata": {},
   "outputs": [
    {
     "data": {
      "text/plain": [
       "array(['Condesa', 'Polanco', 'Santa Fe', 'Centro Histórico', 'Del Valle',\n",
       "       'Roma', 'Narvarte', 'Lomas de Chapultepec', 'Coyoacán',\n",
       "       'San Pedro de los Pinos', 'San Ángel', 'San Jerónimo',\n",
       "       'Ciudad de los Deportes', 'Villa Coapa', 'Bosques de las Lomas',\n",
       "       'Juárez', 'Chapultepec', 'Lindavista', 'La Condesa',\n",
       "       'San Miguel Chapultepec', 'Mixcoac', 'El Rosedal',\n",
       "       'Nueva Santa María', 'Arboledas', 'Villa de Cortés', 'Casa Blanca',\n",
       "       'Bosques de Aragón', 'La Florida', 'Álvaro Obregón', 'Iztacalco',\n",
       "       'Peralvillo', 'Napoles', 'Nativitas', 'San Rafael', 'Vallejo',\n",
       "       'Tlalpan', 'Pueblo Culhuacán', 'San Antonio Tecomitl',\n",
       "       'Roma Norte', 'Industrial Vallejo', 'Iztapalapa',\n",
       "       'Santa Marta Acatitla', 'Villa de Guadalupe', 'Tláhuac',\n",
       "       'Lomas de Padierna', 'El Contadero', 'San Mateo', 'Las Águilas',\n",
       "       'Culhuacán CTM', 'Santa María la Ribera', 'El Arenal',\n",
       "       'San Sebastián', 'Los Alpes', 'La Merced', 'Barrio Bravo',\n",
       "       'San Andrés Tetepilco', 'Loma Bonita', 'Tepalcatlalpan',\n",
       "       'Santa Cruz Atoyac', 'El Rodeo', 'La Virgen',\n",
       "       'San José Insurgentes', 'Atlampa', 'Moctezuma', 'Del Valle Centro',\n",
       "       'Lindavista Sur', 'Potrero de San Bernardino',\n",
       "       'Santa María Nonoalco', 'La Loma', 'Doctores', 'Tlalnepantla',\n",
       "       'Historiadores', 'Residencial Emiliano Zapata',\n",
       "       'San Felipe de Jesús', 'San Juan Xalpa', 'Zacatenco', 'Roma Sur',\n",
       "       'Santa María Aztahuacán', 'San Gregorio Atlapulco',\n",
       "       'Reforma Política', 'Los Reyes Coyoacán', 'Atlalilco',\n",
       "       'Jardines de San Mateo', 'Ajusco', 'Xochimilco', 'Las Aguilas',\n",
       "       'Santa María Nativitas', 'Pedregal'], dtype=object)"
      ]
     },
     "execution_count": 27,
     "metadata": {},
     "output_type": "execute_result"
    }
   ],
   "source": [
    "colonias.Colonia.unique()"
   ]
  }
 ],
 "metadata": {
  "kernelspec": {
   "display_name": "base",
   "language": "python",
   "name": "python3"
  },
  "language_info": {
   "codemirror_mode": {
    "name": "ipython",
    "version": 3
   },
   "file_extension": ".py",
   "mimetype": "text/x-python",
   "name": "python",
   "nbconvert_exporter": "python",
   "pygments_lexer": "ipython3",
   "version": "3.12.7"
  }
 },
 "nbformat": 4,
 "nbformat_minor": 5
}
