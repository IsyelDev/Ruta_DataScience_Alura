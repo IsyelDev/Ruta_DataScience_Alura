{
 "cells": [
  {
   "cell_type": "code",
   "execution_count": 1,
   "id": "419af411",
   "metadata": {},
   "outputs": [],
   "source": [
    "import pandas as pd"
   ]
  },
  {
   "cell_type": "code",
   "execution_count": 25,
   "id": "b335dddb",
   "metadata": {},
   "outputs": [
    {
     "data": {
      "text/html": [
       "<div>\n",
       "<style scoped>\n",
       "    .dataframe tbody tr th:only-of-type {\n",
       "        vertical-align: middle;\n",
       "    }\n",
       "\n",
       "    .dataframe tbody tr th {\n",
       "        vertical-align: top;\n",
       "    }\n",
       "\n",
       "    .dataframe thead th {\n",
       "        text-align: right;\n",
       "    }\n",
       "</style>\n",
       "<table border=\"1\" class=\"dataframe\">\n",
       "  <thead>\n",
       "    <tr style=\"text-align: right;\">\n",
       "      <th></th>\n",
       "      <th>Pais</th>\n",
       "      <th>Poblacion</th>\n",
       "      <th>PIB</th>\n",
       "    </tr>\n",
       "  </thead>\n",
       "  <tbody>\n",
       "    <tr>\n",
       "      <th>0</th>\n",
       "      <td>México</td>\n",
       "      <td>126000000</td>\n",
       "      <td>1.3</td>\n",
       "    </tr>\n",
       "    <tr>\n",
       "      <th>1</th>\n",
       "      <td>Argentina</td>\n",
       "      <td>45000000</td>\n",
       "      <td>0.5</td>\n",
       "    </tr>\n",
       "    <tr>\n",
       "      <th>2</th>\n",
       "      <td>Chile</td>\n",
       "      <td>19000000</td>\n",
       "      <td>0.3</td>\n",
       "    </tr>\n",
       "    <tr>\n",
       "      <th>3</th>\n",
       "      <td>Colombia</td>\n",
       "      <td>51000000</td>\n",
       "      <td>0.4</td>\n",
       "    </tr>\n",
       "    <tr>\n",
       "      <th>4</th>\n",
       "      <td>Perú</td>\n",
       "      <td>33000000</td>\n",
       "      <td>0.2</td>\n",
       "    </tr>\n",
       "  </tbody>\n",
       "</table>\n",
       "</div>"
      ],
      "text/plain": [
       "        Pais  Poblacion  PIB\n",
       "0     México  126000000  1.3\n",
       "1  Argentina   45000000  0.5\n",
       "2      Chile   19000000  0.3\n",
       "3   Colombia   51000000  0.4\n",
       "4       Perú   33000000  0.2"
      ]
     },
     "execution_count": 25,
     "metadata": {},
     "output_type": "execute_result"
    }
   ],
   "source": [
    "datos = pd.DataFrame([\n",
    "  {\"Pais\": \"México\", \"Poblacion\": 126_000_000, \"PIB\": 1.3},\n",
    "    {\"Pais\": \"Argentina\", \"Poblacion\": 45_000_000, \"PIB\": 0.5},\n",
    "    {\"Pais\": \"Chile\", \"Poblacion\": 19_000_000, \"PIB\": 0.3},\n",
    "    {\"Pais\": \"Colombia\", \"Poblacion\": 51_000_000, \"PIB\": 0.4},\n",
    "    {\"Pais\": \"Perú\", \"Poblacion\": 33_000_000, \"PIB\": 0.2},\n",
    "])\n",
    "datos"
   ]
  },
  {
   "cell_type": "code",
   "execution_count": 30,
   "id": "5b4164f2",
   "metadata": {},
   "outputs": [
    {
     "data": {
      "text/plain": [
       "Poblacion    19000000.0\n",
       "PIB                 0.3\n",
       "Name: Chile, dtype: float64"
      ]
     },
     "execution_count": 30,
     "metadata": {},
     "output_type": "execute_result"
    }
   ],
   "source": [
    "datos.set_index(\"Pais\",inplace=True)\n",
    "datos.loc[\"Chile\"]\n"
   ]
  },
  {
   "cell_type": "code",
   "execution_count": 31,
   "id": "62d2169d",
   "metadata": {},
   "outputs": [
    {
     "data": {
      "text/html": [
       "<div>\n",
       "<style scoped>\n",
       "    .dataframe tbody tr th:only-of-type {\n",
       "        vertical-align: middle;\n",
       "    }\n",
       "\n",
       "    .dataframe tbody tr th {\n",
       "        vertical-align: top;\n",
       "    }\n",
       "\n",
       "    .dataframe thead th {\n",
       "        text-align: right;\n",
       "    }\n",
       "</style>\n",
       "<table border=\"1\" class=\"dataframe\">\n",
       "  <thead>\n",
       "    <tr style=\"text-align: right;\">\n",
       "      <th></th>\n",
       "      <th>Pais</th>\n",
       "      <th>Poblacion</th>\n",
       "      <th>PIB</th>\n",
       "    </tr>\n",
       "  </thead>\n",
       "  <tbody>\n",
       "    <tr>\n",
       "      <th>0</th>\n",
       "      <td>México</td>\n",
       "      <td>126000000</td>\n",
       "      <td>1.3</td>\n",
       "    </tr>\n",
       "    <tr>\n",
       "      <th>1</th>\n",
       "      <td>Argentina</td>\n",
       "      <td>45000000</td>\n",
       "      <td>0.5</td>\n",
       "    </tr>\n",
       "    <tr>\n",
       "      <th>2</th>\n",
       "      <td>Chile</td>\n",
       "      <td>19000000</td>\n",
       "      <td>0.3</td>\n",
       "    </tr>\n",
       "    <tr>\n",
       "      <th>3</th>\n",
       "      <td>Colombia</td>\n",
       "      <td>51000000</td>\n",
       "      <td>0.4</td>\n",
       "    </tr>\n",
       "    <tr>\n",
       "      <th>4</th>\n",
       "      <td>Perú</td>\n",
       "      <td>33000000</td>\n",
       "      <td>0.2</td>\n",
       "    </tr>\n",
       "  </tbody>\n",
       "</table>\n",
       "</div>"
      ],
      "text/plain": [
       "        Pais  Poblacion  PIB\n",
       "0     México  126000000  1.3\n",
       "1  Argentina   45000000  0.5\n",
       "2      Chile   19000000  0.3\n",
       "3   Colombia   51000000  0.4\n",
       "4       Perú   33000000  0.2"
      ]
     },
     "execution_count": 31,
     "metadata": {},
     "output_type": "execute_result"
    }
   ],
   "source": [
    "datos.reset_index(inplace=True)\n",
    "datos"
   ]
  },
  {
   "cell_type": "code",
   "execution_count": 38,
   "id": "69b2a9b6",
   "metadata": {},
   "outputs": [
    {
     "data": {
      "text/html": [
       "<div>\n",
       "<style scoped>\n",
       "    .dataframe tbody tr th:only-of-type {\n",
       "        vertical-align: middle;\n",
       "    }\n",
       "\n",
       "    .dataframe tbody tr th {\n",
       "        vertical-align: top;\n",
       "    }\n",
       "\n",
       "    .dataframe thead th {\n",
       "        text-align: right;\n",
       "    }\n",
       "</style>\n",
       "<table border=\"1\" class=\"dataframe\">\n",
       "  <thead>\n",
       "    <tr style=\"text-align: right;\">\n",
       "      <th></th>\n",
       "      <th>Poblacion</th>\n",
       "      <th>PIB</th>\n",
       "    </tr>\n",
       "    <tr>\n",
       "      <th>Pais</th>\n",
       "      <th></th>\n",
       "      <th></th>\n",
       "    </tr>\n",
       "  </thead>\n",
       "  <tbody>\n",
       "    <tr>\n",
       "      <th>México</th>\n",
       "      <td>126000000</td>\n",
       "      <td>1.3</td>\n",
       "    </tr>\n",
       "    <tr>\n",
       "      <th>Argentina</th>\n",
       "      <td>45000000</td>\n",
       "      <td>0.5</td>\n",
       "    </tr>\n",
       "    <tr>\n",
       "      <th>Chile</th>\n",
       "      <td>19000000</td>\n",
       "      <td>0.3</td>\n",
       "    </tr>\n",
       "    <tr>\n",
       "      <th>Colombia</th>\n",
       "      <td>51000000</td>\n",
       "      <td>0.4</td>\n",
       "    </tr>\n",
       "    <tr>\n",
       "      <th>Perú</th>\n",
       "      <td>33000000</td>\n",
       "      <td>0.2</td>\n",
       "    </tr>\n",
       "  </tbody>\n",
       "</table>\n",
       "</div>"
      ],
      "text/plain": [
       "           Poblacion  PIB\n",
       "Pais                     \n",
       "México     126000000  1.3\n",
       "Argentina   45000000  0.5\n",
       "Chile       19000000  0.3\n",
       "Colombia    51000000  0.4\n",
       "Perú        33000000  0.2"
      ]
     },
     "execution_count": 38,
     "metadata": {},
     "output_type": "execute_result"
    }
   ],
   "source": [
    "datos_indexado = datos.set_index(\"Pais\")\n",
    "datos_indexado"
   ]
  },
  {
   "cell_type": "code",
   "execution_count": 43,
   "id": "bc5cb509",
   "metadata": {},
   "outputs": [
    {
     "data": {
      "text/html": [
       "<div>\n",
       "<style scoped>\n",
       "    .dataframe tbody tr th:only-of-type {\n",
       "        vertical-align: middle;\n",
       "    }\n",
       "\n",
       "    .dataframe tbody tr th {\n",
       "        vertical-align: top;\n",
       "    }\n",
       "\n",
       "    .dataframe thead th {\n",
       "        text-align: right;\n",
       "    }\n",
       "</style>\n",
       "<table border=\"1\" class=\"dataframe\">\n",
       "  <thead>\n",
       "    <tr style=\"text-align: right;\">\n",
       "      <th></th>\n",
       "      <th>Poblacion</th>\n",
       "      <th>PIB</th>\n",
       "    </tr>\n",
       "    <tr>\n",
       "      <th>Pais</th>\n",
       "      <th></th>\n",
       "      <th></th>\n",
       "    </tr>\n",
       "  </thead>\n",
       "  <tbody>\n",
       "    <tr>\n",
       "      <th>Argentina</th>\n",
       "      <td>45000000</td>\n",
       "      <td>0.5</td>\n",
       "    </tr>\n",
       "    <tr>\n",
       "      <th>Chile</th>\n",
       "      <td>19000000</td>\n",
       "      <td>0.3</td>\n",
       "    </tr>\n",
       "    <tr>\n",
       "      <th>Colombia</th>\n",
       "      <td>51000000</td>\n",
       "      <td>0.4</td>\n",
       "    </tr>\n",
       "    <tr>\n",
       "      <th>México</th>\n",
       "      <td>126000000</td>\n",
       "      <td>1.3</td>\n",
       "    </tr>\n",
       "    <tr>\n",
       "      <th>Perú</th>\n",
       "      <td>33000000</td>\n",
       "      <td>0.2</td>\n",
       "    </tr>\n",
       "  </tbody>\n",
       "</table>\n",
       "</div>"
      ],
      "text/plain": [
       "           Poblacion  PIB\n",
       "Pais                     \n",
       "Argentina   45000000  0.5\n",
       "Chile       19000000  0.3\n",
       "Colombia    51000000  0.4\n",
       "México     126000000  1.3\n",
       "Perú        33000000  0.2"
      ]
     },
     "execution_count": 43,
     "metadata": {},
     "output_type": "execute_result"
    }
   ],
   "source": [
    "datos_indexado.sort_index(inplace=True)\n",
    "datos_indexado"
   ]
  },
  {
   "cell_type": "code",
   "execution_count": 87,
   "id": "9733dd38",
   "metadata": {},
   "outputs": [
    {
     "data": {
      "text/html": [
       "<div>\n",
       "<style scoped>\n",
       "    .dataframe tbody tr th:only-of-type {\n",
       "        vertical-align: middle;\n",
       "    }\n",
       "\n",
       "    .dataframe tbody tr th {\n",
       "        vertical-align: top;\n",
       "    }\n",
       "\n",
       "    .dataframe thead th {\n",
       "        text-align: right;\n",
       "    }\n",
       "</style>\n",
       "<table border=\"1\" class=\"dataframe\">\n",
       "  <thead>\n",
       "    <tr style=\"text-align: right;\">\n",
       "      <th></th>\n",
       "      <th>Pais</th>\n",
       "      <th>Poblacion</th>\n",
       "      <th>Area_km2</th>\n",
       "    </tr>\n",
       "    <tr>\n",
       "      <th>Ciudad</th>\n",
       "      <th></th>\n",
       "      <th></th>\n",
       "      <th></th>\n",
       "    </tr>\n",
       "  </thead>\n",
       "  <tbody>\n",
       "    <tr>\n",
       "      <th>Nueva York</th>\n",
       "      <td>EEUU</td>\n",
       "      <td>8400000</td>\n",
       "      <td>783.8</td>\n",
       "    </tr>\n",
       "    <tr>\n",
       "      <th>Los Angeles</th>\n",
       "      <td>EEUU</td>\n",
       "      <td>4000000</td>\n",
       "      <td>1302.0</td>\n",
       "    </tr>\n",
       "    <tr>\n",
       "      <th>Toronto</th>\n",
       "      <td>Canada</td>\n",
       "      <td>2900000</td>\n",
       "      <td>630.2</td>\n",
       "    </tr>\n",
       "    <tr>\n",
       "      <th>Vancouver</th>\n",
       "      <td>Canada</td>\n",
       "      <td>675000</td>\n",
       "      <td>115.0</td>\n",
       "    </tr>\n",
       "    <tr>\n",
       "      <th>Londres</th>\n",
       "      <td>Reino Unido</td>\n",
       "      <td>9000000</td>\n",
       "      <td>1572.0</td>\n",
       "    </tr>\n",
       "    <tr>\n",
       "      <th>Manchester</th>\n",
       "      <td>Reino Unido</td>\n",
       "      <td>553000</td>\n",
       "      <td>115.6</td>\n",
       "    </tr>\n",
       "    <tr>\n",
       "      <th>Tokio</th>\n",
       "      <td>Japon</td>\n",
       "      <td>13900000</td>\n",
       "      <td>2194.0</td>\n",
       "    </tr>\n",
       "    <tr>\n",
       "      <th>Osaka</th>\n",
       "      <td>Japon</td>\n",
       "      <td>2700000</td>\n",
       "      <td>223.0</td>\n",
       "    </tr>\n",
       "    <tr>\n",
       "      <th>Paris</th>\n",
       "      <td>Francia</td>\n",
       "      <td>2200000</td>\n",
       "      <td>105.4</td>\n",
       "    </tr>\n",
       "    <tr>\n",
       "      <th>Marsella</th>\n",
       "      <td>Francia</td>\n",
       "      <td>861000</td>\n",
       "      <td>240.6</td>\n",
       "    </tr>\n",
       "  </tbody>\n",
       "</table>\n",
       "</div>"
      ],
      "text/plain": [
       "                    Pais  Poblacion  Area_km2\n",
       "Ciudad                                       \n",
       "Nueva York          EEUU    8400000     783.8\n",
       "Los Angeles         EEUU    4000000    1302.0\n",
       "Toronto           Canada    2900000     630.2\n",
       "Vancouver         Canada     675000     115.0\n",
       "Londres      Reino Unido    9000000    1572.0\n",
       "Manchester   Reino Unido     553000     115.6\n",
       "Tokio              Japon   13900000    2194.0\n",
       "Osaka              Japon    2700000     223.0\n",
       "Paris            Francia    2200000     105.4\n",
       "Marsella         Francia     861000     240.6"
      ]
     },
     "execution_count": 87,
     "metadata": {},
     "output_type": "execute_result"
    }
   ],
   "source": [
    "import pandas as pd\n",
    "\n",
    "ciudades = pd.DataFrame([\n",
    "    [\"Nueva York\", \"EEUU\", 8_400_000, 783.8],\n",
    "    [\"Los Angeles\", \"EEUU\", 4_000_000, 1302],\n",
    "    [\"Toronto\", \"Canada\", 2_900_000, 630.2],\n",
    "    [\"Vancouver\", \"Canada\", 675_000, 115],\n",
    "    [\"Londres\", \"Reino Unido\", 9_000_000, 1572],\n",
    "    [\"Manchester\", \"Reino Unido\", 553_000, 115.6],\n",
    "    [\"Tokio\", \"Japon\", 13_900_000, 2194],\n",
    "    [\"Osaka\", \"Japon\", 2_700_000, 223],\n",
    "    [\"Paris\", \"Francia\", 2_200_000, 105.4],\n",
    "    [\"Marsella\", \"Francia\", 861_000, 240.6]\n",
    "], columns=[\"Ciudad\", \"Pais\", \"Poblacion\", \"Area_km2\"])\n",
    "\n",
    "ciudades.set_index(\"Ciudad\", inplace=True)\n",
    "ciudades\n"
   ]
  },
  {
   "cell_type": "code",
   "execution_count": null,
   "id": "63f76e49",
   "metadata": {},
   "outputs": [],
   "source": [
    "ciudades.loc[\"Tokio\"]\n",
    "ciudades.loc[\"Paris\",\"Poblacion\"]\n",
    "ciudades.loc[\"Los Angeles\",[\"Poblacion\",\"Area_km2\"]]\n",
    "ciudades.loc[[\"Toronto\",\"Vancouver\"]]\n",
    "ciudades.loc[ciudades[\"Pais\"]==\"Reino Unido\",\"Poblacion\"]\n",
    "ciudades.loc[\"Marsella\",\"Area_km2\"]=242\n",
    "ciudades.loc[ciudades[\"Poblacion\"]>3000000]\n",
    "ciudades.loc[(ciudades[\"Pais\"]==\"Canada\") & (ciudades[\"Poblacion\"]<1000000)]\n",
    "ciudades.loc[ciudades[\"Area_km2\"]<500]\n",
    "ciudades.loc[\"Manchester\",\"Poblacion\"]=560000\n",
    " \n",
    "\n"
   ]
  },
  {
   "cell_type": "code",
   "execution_count": 96,
   "id": "4489fed1",
   "metadata": {},
   "outputs": [],
   "source": [
    "ciudades.loc[(ciudades[\"Pais\"]==\"Japon\")&(ciudades[\"Area_km2\"]>500)]\n",
    "ciudades.loc[\"Vancouver\",\"Poblacion\"]=700000\n",
    "ciudades.loc[ciudades[\"Poblacion\"]<1000000,[\"Pais\",\"Area_km2\"]]\n",
    "ciudades.loc[(ciudades[\"Poblacion\"]>=2000000) & (ciudades[\"Poblacion\"]<=5000000)]\n",
    "ciudades.loc[\"Toronto\",\"Area_km2\"]=640"
   ]
  },
  {
   "cell_type": "code",
   "execution_count": 112,
   "id": "b8db2206",
   "metadata": {},
   "outputs": [
    {
     "data": {
      "text/plain": [
       "['Toronto',\n",
       " 'Vancouver',\n",
       " 'Londres',\n",
       " 'Manchester',\n",
       " 'Tokio',\n",
       " 'Osaka',\n",
       " 'Paris',\n",
       " 'Marsella']"
      ]
     },
     "execution_count": 112,
     "metadata": {},
     "output_type": "execute_result"
    }
   ],
   "source": [
    "ciudades.loc[ciudades[\"Pais\"]==\"Francia\",[\"Poblacion\",\"Area_km2\"]]\n",
    "ciudades.loc[\"Los Angeles\",\"Area_km2\"]=1310\n",
    "ciudades.loc[(ciudades[\"Poblacion\"]>8000000)|(ciudades[\"Area_km2\"]>150)]\n",
    "ciudades.loc[ciudades[\"Pais\"]!=\"EEUU\"].index.to_list()\n",
    "#ciudades.loc[(ciudades[\"Poblacion\"]>500000) & (ciudades[\"Poblacion\"]<1000000),\"Poblacion\"]"
   ]
  },
  {
   "cell_type": "code",
   "execution_count": null,
   "id": "5b9562e3",
   "metadata": {},
   "outputs": [
    {
     "data": {
      "text/plain": [
       "['2025',\n",
       " '2024',\n",
       " '2023',\n",
       " '2022',\n",
       " '2021',\n",
       " '2020',\n",
       " '2019',\n",
       " '2018',\n",
       " '2017',\n",
       " '2016']"
      ]
     },
     "execution_count": 132,
     "metadata": {},
     "output_type": "execute_result"
    }
   ],
   "source": [
    "lista = list(map(str ,range(1950,2000+1)))\n",
    "lista = [a for a in range(1980,2024) if a %2==1]\n",
    "lista = list(map(str,range(2025,2025-10,-1)))\n",
    "lista = list(map(str,[1,2,3,4,5]))\n",
    "lista = list(map( int,['1999', '2005', '2010']))\n",
    "lista"
   ]
  },
  {
   "cell_type": "code",
   "execution_count": null,
   "id": "4f591d00",
   "metadata": {},
   "outputs": [],
   "source": []
  }
 ],
 "metadata": {
  "kernelspec": {
   "display_name": "base",
   "language": "python",
   "name": "python3"
  },
  "language_info": {
   "codemirror_mode": {
    "name": "ipython",
    "version": 3
   },
   "file_extension": ".py",
   "mimetype": "text/x-python",
   "name": "python",
   "nbconvert_exporter": "python",
   "pygments_lexer": "ipython3",
   "version": "3.12.7"
  }
 },
 "nbformat": 4,
 "nbformat_minor": 5
}
