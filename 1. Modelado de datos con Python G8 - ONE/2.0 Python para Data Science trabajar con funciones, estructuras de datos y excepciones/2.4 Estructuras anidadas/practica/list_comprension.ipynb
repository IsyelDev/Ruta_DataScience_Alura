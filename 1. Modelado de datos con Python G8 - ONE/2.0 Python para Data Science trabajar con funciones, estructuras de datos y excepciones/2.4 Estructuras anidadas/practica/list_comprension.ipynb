{
 "cells": [
  {
   "cell_type": "code",
   "execution_count": 1,
   "id": "23b783d2",
   "metadata": {},
   "outputs": [],
   "source": [
    "lista_de_listas = [[4, 6, 5, 9], [1, 0, 7, 2], [3, 4, 1, 8]]"
   ]
  },
  {
   "cell_type": "code",
   "execution_count": 7,
   "id": "a5fbab3e",
   "metadata": {},
   "outputs": [
    {
     "data": {
      "text/plain": [
       "50"
      ]
     },
     "execution_count": 7,
     "metadata": {},
     "output_type": "execute_result"
    }
   ],
   "source": [
    "sumatoria = sum([numero for fila in lista_de_listas for numero in fila ])\n",
    "sumatoria"
   ]
  },
  {
   "cell_type": "code",
   "execution_count": 8,
   "id": "a40d5ef6",
   "metadata": {},
   "outputs": [
    {
     "data": {
      "text/plain": [
       "[81, 67, 83]"
      ]
     },
     "execution_count": 8,
     "metadata": {},
     "output_type": "execute_result"
    }
   ],
   "source": [
    "lista_de_tuplas = [('Pedro', 1.74, 81), ('Júlia', 1.65, 67), ('Otávio', 1.81, 83)]\n",
    "tercer_elemento = [elemento[2] for elemento in lista_de_tuplas]\n",
    "tercer_elemento"
   ]
  },
  {
   "cell_type": "code",
   "execution_count": 11,
   "id": "c764d8e8",
   "metadata": {},
   "outputs": [
    {
     "data": {
      "text/plain": [
       "[(0, 'Pedro'), (1, 'Júlia'), (2, 'Otávio'), (3, 'Eduardo')]"
      ]
     },
     "execution_count": 11,
     "metadata": {},
     "output_type": "execute_result"
    }
   ],
   "source": [
    "lista = ['Pedro', 'Júlia', 'Otávio', 'Eduardo']\n",
    "codigo = list(enumerate(lista))\n",
    "codigo\n"
   ]
  },
  {
   "cell_type": "code",
   "execution_count": 12,
   "id": "0ca1a439",
   "metadata": {},
   "outputs": [
    {
     "data": {
      "text/plain": [
       "[(0, 'Ana'), (1, 'Bruno'), (2, 'Carlos'), (3, 'Diana')]"
      ]
     },
     "execution_count": 12,
     "metadata": {},
     "output_type": "execute_result"
    }
   ],
   "source": [
    "nombres = ['Ana', 'Bruno', 'Carlos', 'Diana']\n",
    "indice = list(enumerate(nombres))\n",
    "indice"
   ]
  },
  {
   "cell_type": "code",
   "execution_count": 15,
   "id": "f1091f4c",
   "metadata": {},
   "outputs": [
    {
     "data": {
      "text/plain": [
       "[(1, 'Correcta'), (2, 'Correcta'), (3, 'Incorrecta'), (4, 'Correcta')]"
      ]
     },
     "execution_count": 15,
     "metadata": {},
     "output_type": "execute_result"
    }
   ],
   "source": [
    "respuestas_correctas = ['A', 'C', 'B', 'D']\n",
    "respuestas_alumno = ['A', 'C', 'A', 'D']\n",
    "respuesta = [(i,\"Correcta\" if respuesta_c==respuesta_a else \"Incorrecta\") \n",
    "             for i, (respuesta_c , respuesta_a )in enumerate(zip(respuestas_correctas,respuestas_alumno),1)]\n",
    "respuesta"
   ]
  },
  {
   "cell_type": "code",
   "execution_count": 17,
   "id": "d88b1044",
   "metadata": {},
   "outputs": [
    {
     "data": {
      "text/plain": [
       "{1: 'Matemáticas', 2: 'Historia', 3: 'Ciencias', 4: 'Arte'}"
      ]
     },
     "execution_count": 17,
     "metadata": {},
     "output_type": "execute_result"
    }
   ],
   "source": [
    "materias = ['Matemáticas', 'Historia', 'Ciencias', 'Arte']\n",
    "orden = dict(enumerate(materias,1))\n",
    "orden"
   ]
  },
  {
   "cell_type": "code",
   "execution_count": 20,
   "id": "b10f6a35",
   "metadata": {},
   "outputs": [
    {
     "data": {
      "text/plain": [
       "[(1, 'Matemáticas', 8.5, 'Aprobado'),\n",
       " (2, 'Historia', 6.0, 'Reprobado'),\n",
       " (3, 'Ciencias', 9.0, 'Aprobado'),\n",
       " (4, 'Arte', 5.5, 'Reprobado')]"
      ]
     },
     "execution_count": 20,
     "metadata": {},
     "output_type": "execute_result"
    }
   ],
   "source": [
    "materias = ['Matemáticas', 'Historia', 'Ciencias', 'Arte']\n",
    "notas = [8.5, 6.0, 9.0, 5.5]\n",
    "\n",
    "aprobados = [(i,materia,nota,\"Aprobado\" if nota>6 else \"Reprobado\") for i,(materia,nota)in enumerate(zip(materias,notas),1)]\n",
    "aprobados"
   ]
  },
  {
   "cell_type": "code",
   "execution_count": 21,
   "id": "922329aa",
   "metadata": {},
   "outputs": [
    {
     "data": {
      "text/plain": [
       "{1: 'manzana', 2: 'pera', 3: 'uva'}"
      ]
     },
     "execution_count": 21,
     "metadata": {},
     "output_type": "execute_result"
    }
   ],
   "source": [
    "frutas = ['manzana', 'pera', 'uva']\n",
    "dict(enumerate(frutas,1))"
   ]
  },
  {
   "cell_type": "code",
   "execution_count": 22,
   "id": "71278799",
   "metadata": {},
   "outputs": [
    {
     "data": {
      "text/plain": [
       "[11, 22, 33]"
      ]
     },
     "execution_count": 22,
     "metadata": {},
     "output_type": "execute_result"
    }
   ],
   "source": [
    "a = [10, 20, 30]\n",
    "b = [1, 2, 3]\n",
    "sumatoria =[(x+y) for x,y in zip(a,b)]\n",
    "sumatoria"
   ]
  },
  {
   "cell_type": "code",
   "execution_count": 24,
   "id": "b9078575",
   "metadata": {},
   "outputs": [
    {
     "data": {
      "text/plain": [
       "[(3, 12, 11), (5, 25, 26)]"
      ]
     },
     "execution_count": 24,
     "metadata": {},
     "output_type": "execute_result"
    }
   ],
   "source": [
    "original = [5, 8, 12, 20, 25]\n",
    "copiado = [5, 8, 11, 20, 26]\n",
    "no_coinciden = [(i,valor,copia) \n",
    "                for i,(valor,copia) in enumerate(zip(original,copiado),1) \n",
    "                if valor!=copia ]\n",
    "no_coinciden\n"
   ]
  },
  {
   "cell_type": "code",
   "execution_count": 28,
   "id": "e089baba",
   "metadata": {},
   "outputs": [
    {
     "data": {
      "text/plain": [
       "[2150, 1100]"
      ]
     },
     "execution_count": 28,
     "metadata": {},
     "output_type": "execute_result"
    }
   ],
   "source": [
    "alquiler = [('Apartamento', 1700), ('Apartamento', 1400), ('Casa', 2150), ('Apartamento', 1900), ('Casa', 1100)]\n",
    "lista_tupla = [alquile[1] for alquile in alquiler if alquile[0]!='Apartamento']\n",
    "lista_tupla"
   ]
  },
  {
   "cell_type": "code",
   "execution_count": 38,
   "id": "23de3a6e",
   "metadata": {},
   "outputs": [
    {
     "data": {
      "text/plain": [
       "{'Jan': 860,\n",
       " 'Fev': 490,\n",
       " 'Mar': 1010,\n",
       " 'Abr': 780,\n",
       " 'Mai': 900,\n",
       " 'Jun': 630,\n",
       " 'Jul': 590,\n",
       " 'Ago': 770,\n",
       " 'Set': 620,\n",
       " 'Out': 560,\n",
       " 'Nov': 840,\n",
       " 'Dez': 360}"
      ]
     },
     "execution_count": 38,
     "metadata": {},
     "output_type": "execute_result"
    }
   ],
   "source": [
    "meses = ['Jan', 'Fev', 'Mar', 'Abr', 'Mai', 'Jun', 'Jul', 'Ago', 'Set', 'Out', 'Nov', 'Dez'] \n",
    "gasto = [860, 490, 1010, 780, 900, 630, 590, 770, 620, 560, 840, 360]\n",
    "\n",
    "dicionario = {k:v for k,v in zip(meses,gasto)}\n",
    "dicionario"
   ]
  },
  {
   "cell_type": "code",
   "execution_count": null,
   "id": "f67bae8d",
   "metadata": {},
   "outputs": [
    {
     "data": {
      "text/plain": [
       "[('2022', 8883), ('2022', 7688), ('2022', 9544), ('2022', 8190)]"
      ]
     },
     "execution_count": 1,
     "metadata": {},
     "output_type": "execute_result"
    }
   ],
   "source": [
    "ventas = [('2023', 4093), ('2021', 4320), ('2021', 5959), ('2022', 8883), ('2023', 9859), ('2022', 5141), ('2022', 7688), ('2022', 9544), ('2023', 4794), ('2021', 7178), ('2022', 3030), ('2021', 7471), ('2022', 4226), ('2022', 8190), ('2021', 9680), ('2022', 5616)]\n",
    "\n",
    "ventas_mayores =[valor for valor in ventas if valor[0]==\"2022\"and valor[1]>6000]\n",
    "ventas_mayores\n"
   ]
  },
  {
   "cell_type": "code",
   "execution_count": null,
   "id": "8e2c2067",
   "metadata": {},
   "outputs": [],
   "source": [
    "glicemia = [129, 82, 60, 97, 101, 65, 62, 167, 87, 53, 58, 92, 66, 120, 109, 62, 86, 96, 103, 88, 155, 52, 89, 73]\n",
    "\n",
    "tuplas = [\n",
    "    (\n",
    "        'Hipoglicemia' if valor <= 70 else\n",
    "        'Normal' if valor <= 99 else\n",
    "        'Alterada' if valor <= 125 else\n",
    "        'Diabetes',\n",
    "        valor\n",
    "    )\n",
    "    for valor in glicemia\n",
    "]\n",
    "\n",
    "print(tuplas)\n"
   ]
  },
  {
   "cell_type": "code",
   "execution_count": null,
   "id": "9e588ca9",
   "metadata": {},
   "outputs": [],
   "source": []
  }
 ],
 "metadata": {
  "kernelspec": {
   "display_name": "base",
   "language": "python",
   "name": "python3"
  },
  "language_info": {
   "codemirror_mode": {
    "name": "ipython",
    "version": 3
   },
   "file_extension": ".py",
   "mimetype": "text/x-python",
   "name": "python",
   "nbconvert_exporter": "python",
   "pygments_lexer": "ipython3",
   "version": "3.12.7"
  }
 },
 "nbformat": 4,
 "nbformat_minor": 5
}
